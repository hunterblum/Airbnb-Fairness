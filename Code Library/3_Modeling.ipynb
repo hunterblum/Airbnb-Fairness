{
 "cells": [
  {
   "cell_type": "markdown",
   "metadata": {},
   "source": [
    "# Notebook 3: Modeling \n",
    "\n",
    "_For USD-599 Capstone Project by Hunter Blum, Kyle Esteban Dalope, and Nicholas Lee (Summer 2023)_\n",
    "\n",
    "***\n",
    "\n",
    "**Content Overview:**\n",
    "1. Pipeline Creation\n",
    "2. Data Splitting - Split by property_type_binary and train test split for each\n",
    "3. Modeling - Two sets of models based on propery_type_binary that will be evaluated separately\n",
    "4. Results"
   ]
  },
  {
   "cell_type": "code",
   "execution_count": 58,
   "metadata": {},
   "outputs": [],
   "source": [
    "# Library Imports\n",
    "import pandas as pd\n",
    "import numpy as np\n",
    "\n",
    "from sklearn.model_selection import train_test_split, cross_val_score, RandomizedSearchCV\n",
    "from sklearn.pipeline import make_pipeline, Pipeline \n",
    "from sklearn.preprocessing import StandardScaler, OneHotEncoder\n",
    "from sklearn.compose import ColumnTransformer\n",
    "from sklearn import set_config\n",
    "\n",
    "import warnings\n",
    "warnings.filterwarnings(\"ignore\")"
   ]
  },
  {
   "cell_type": "code",
   "execution_count": 4,
   "metadata": {},
   "outputs": [],
   "source": [
    "# Read in data from the previous notebook\n",
    "clean_data = pd.read_csv(\"../Data/model_ready.csv.gz\", compression = \"gzip\")"
   ]
  },
  {
   "cell_type": "code",
   "execution_count": 7,
   "metadata": {},
   "outputs": [
    {
     "data": {
      "text/plain": [
       "host_listings_count                             float64\n",
       "property_type                                    object\n",
       "room_type                                        object\n",
       "bathrooms                                       float64\n",
       "bedrooms                                        float64\n",
       "price                                           float64\n",
       "minimum_nights                                    int64\n",
       "maximum_nights                                    int64\n",
       "minimum_minimum_nights                          float64\n",
       "maximum_maximum_nights                          float64\n",
       "has_availability                                 object\n",
       "availability_30                                   int64\n",
       "availability_365                                  int64\n",
       "instant_bookable                                 object\n",
       "calculated_host_listings_count                    int64\n",
       "calculated_host_listings_count_private_rooms      int64\n",
       "calculated_host_listings_count_shared_rooms       int64\n",
       "reviews_per_month                               float64\n",
       "zipcode                                           int64\n",
       "median_income_dollars                           float64\n",
       "property_type_binary                             object\n",
       "private                                           int64\n",
       "sentiment                                       float64\n",
       "review_score_weighted                           float64\n",
       "dtype: object"
      ]
     },
     "execution_count": 7,
     "metadata": {},
     "output_type": "execute_result"
    }
   ],
   "source": [
    "clean_data.dtypes"
   ]
  },
  {
   "cell_type": "code",
   "execution_count": 8,
   "metadata": {},
   "outputs": [],
   "source": [
    "# Change some features to the proper data types\n",
    "# i.e. zipcode to categorical\n",
    "clean_data[\"zipcode\"] = clean_data[\"zipcode\"].astype(\"category\")"
   ]
  },
  {
   "cell_type": "markdown",
   "metadata": {},
   "source": [
    "**Do we need to drop _property_type_ and _room_type_?**"
   ]
  },
  {
   "cell_type": "code",
   "execution_count": 15,
   "metadata": {},
   "outputs": [],
   "source": [
    "# Split the data by property type\n",
    "\n",
    "house_df = clean_data.loc[clean_data[\"property_type_binary\"] == \"house\"]\n",
    "room_df = clean_data.loc[clean_data[\"property_type_binary\"] == \"room\"]"
   ]
  },
  {
   "cell_type": "markdown",
   "metadata": {},
   "source": [
    "## Pipeline Setup\n",
    "-  Establish a unique pipeline for numerical and categorical columns separately\n",
    "- Partition the dataset into training and test set (75:25 split)\n",
    "- Fit and apply the transformer to the training set\n",
    "- Applied the trained transformer to the test set\n",
    "- Return the preprocessed, model-ready training and test sets"
   ]
  },
  {
   "cell_type": "markdown",
   "metadata": {},
   "source": [
    "**Maybe we go back and keep _review_scores_average_ and in the pipeline, multiple the two features (avg. score and # of monthly reviews) together, to create a weighted score, and then drop it?**\n",
    "\n",
    "I'm thinking if this app is for users, they will have this information will be readily accessible and they can enter it themselves. If we take this approach, we'll need to keep the original features so the vector exists for them in the model training data"
   ]
  },
  {
   "cell_type": "code",
   "execution_count": 22,
   "metadata": {},
   "outputs": [],
   "source": [
    "# Separate numerical and categorical features\n",
    "num_cols = clean_data.select_dtypes([\"int64\", \"float64\"]).columns.tolist()\n",
    "categorical_cols = clean_data.select_dtypes(\"object\").columns.tolist()"
   ]
  },
  {
   "cell_type": "markdown",
   "metadata": {},
   "source": [
    "**Should we add an imputer to the numerical data in the event that a user decides to leave a field empty, downstream?**"
   ]
  },
  {
   "cell_type": "code",
   "execution_count": 52,
   "metadata": {},
   "outputs": [],
   "source": [
    "# Set up separate pipelines for different datatypes\n",
    "\n",
    "# Set transformer output as a pandas dataframe\n",
    "set_config(transform_output=\"pandas\")\n",
    "\n",
    "# Numerical Pipeline\n",
    "num_pipeline = Pipeline([\n",
    "    (\"standardscaler\", StandardScaler())\n",
    "])\n",
    "\n",
    "# Categorical Pipeline\n",
    "categorical_pipeline = Pipeline([\n",
    "    # Handle_unknown = \"ignore\" to deal with one off values in categorical features\n",
    "    (\"encoder\", OneHotEncoder(\n",
    "        sparse_output = False, drop = \"if_binary\", handle_unknown = \"ignore\"\n",
    "        )\n",
    "    )\n",
    "])\n",
    "\n",
    "# Global Data Pipeline\n",
    "data_transformer = ColumnTransformer(\n",
    "    transformers = [\n",
    "        (\"numerical\", num_pipeline, num_cols),\n",
    "        (\"categorical\", categorical_pipeline, categorical_cols)\n",
    "    ]\n",
    ")"
   ]
  },
  {
   "cell_type": "code",
   "execution_count": 53,
   "metadata": {},
   "outputs": [],
   "source": [
    "# A function to output preprocessed, model-ready data using the data_transformer\n",
    "def preprocess_data(data_set, pipeline = data_transformer,\n",
    "                    num_cols = num_cols, categorical_cols = categorical_cols):\n",
    "    \n",
    "    # Data partitioning 75:25 Train-Test Split\n",
    "    training_data, test_data = train_test_split(\n",
    "        data_set, test_size = 0.25, random_state = 2023\n",
    "        )\n",
    "\n",
    "    # Fit and transform the training data partition\n",
    "    trained_data = pipeline.fit_transform(training_data)        \n",
    "\n",
    "    # Transform the test data set based on the training data\n",
    "    test_data = pipeline.transform(test_data)\n",
    "\n",
    "    return trained_data, test_data"
   ]
  },
  {
   "cell_type": "code",
   "execution_count": 59,
   "metadata": {},
   "outputs": [],
   "source": [
    "# Preprocess the house-type and room-type data sets\n",
    "house_train, house_test = preprocess_data(house_df)\n",
    "room_train, room_test = preprocess_data(room_df)"
   ]
  }
 ],
 "metadata": {
  "kernelspec": {
   "display_name": "Python 3",
   "language": "python",
   "name": "python3"
  },
  "language_info": {
   "codemirror_mode": {
    "name": "ipython",
    "version": 3
   },
   "file_extension": ".py",
   "mimetype": "text/x-python",
   "name": "python",
   "nbconvert_exporter": "python",
   "pygments_lexer": "ipython3",
   "version": "3.11.1"
  },
  "orig_nbformat": 4
 },
 "nbformat": 4,
 "nbformat_minor": 2
}
