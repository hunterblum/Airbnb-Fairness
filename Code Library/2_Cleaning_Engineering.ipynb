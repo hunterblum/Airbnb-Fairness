{
 "cells": [
  {
   "cell_type": "markdown",
   "metadata": {},
   "source": [
    "# Notebook 2: Data Cleaning and Feature Engineering\n",
    "\n",
    "_For USD-599 Capstone Project by Hunter Blum, Kyle Esteban Dalope, and Nicholas Lee (Summer 2023)_\n",
    "\n",
    "***\n",
    "\n",
    "**Content Overview:**\n",
    "1. Text Sentiment feature creation\n",
    "2. Weighted Review Score feature creation\n",
    "3. Final feature removal\n",
    "4. Imputation strategy\n",
    "\n",
    "**Note: Some Cleaning and Engineering Steps Already Performed in Notebook 1: Data Exploration**\n",
    "1. Dropped \"source\" column.\n",
    "2. Removed duplicates keeping, most recent (date) observation.\n",
    "3. Removed uneeded columns such as pictures, host id's, etc. \n",
    "4. Filled missing values for bathrooms.\n",
    "5. Added zipcodes for neighborhood categories.\n",
    "7. Removed one feature from feature pairs with a correlation over 0.75.\n",
    "6. Created a binary variable based on property type descriptions.\n",
    "7. Created a binary variable based on if a property is private or shared with host."
   ]
  },
  {
   "cell_type": "code",
   "execution_count": 2,
   "metadata": {},
   "outputs": [],
   "source": [
    "# Library Imports\n",
    "import pandas as pd\n",
    "import numpy as np\n",
    "\n",
    "# Note needed to install older version 4.28.0\n",
    "from transformers import pipeline"
   ]
  },
  {
   "cell_type": "code",
   "execution_count": 2,
   "metadata": {},
   "outputs": [
    {
     "data": {
      "text/html": [
       "<div>\n",
       "<style scoped>\n",
       "    .dataframe tbody tr th:only-of-type {\n",
       "        vertical-align: middle;\n",
       "    }\n",
       "\n",
       "    .dataframe tbody tr th {\n",
       "        vertical-align: top;\n",
       "    }\n",
       "\n",
       "    .dataframe thead th {\n",
       "        text-align: right;\n",
       "    }\n",
       "</style>\n",
       "<table border=\"1\" class=\"dataframe\">\n",
       "  <thead>\n",
       "    <tr style=\"text-align: right;\">\n",
       "      <th></th>\n",
       "      <th>name</th>\n",
       "      <th>description</th>\n",
       "      <th>neighborhood_overview</th>\n",
       "      <th>host_listings_count</th>\n",
       "      <th>latitude</th>\n",
       "      <th>longitude</th>\n",
       "      <th>property_type</th>\n",
       "      <th>room_type</th>\n",
       "      <th>bathrooms</th>\n",
       "      <th>bedrooms</th>\n",
       "      <th>...</th>\n",
       "      <th>review_scores_location</th>\n",
       "      <th>instant_bookable</th>\n",
       "      <th>calculated_host_listings_count</th>\n",
       "      <th>calculated_host_listings_count_private_rooms</th>\n",
       "      <th>calculated_host_listings_count_shared_rooms</th>\n",
       "      <th>reviews_per_month</th>\n",
       "      <th>zipcode</th>\n",
       "      <th>median_income_dollars</th>\n",
       "      <th>property_type_binary</th>\n",
       "      <th>private</th>\n",
       "    </tr>\n",
       "  </thead>\n",
       "  <tbody>\n",
       "    <tr>\n",
       "      <th>0</th>\n",
       "      <td>Huge Oceanview decks+RooftopDeck☀sleeps 10☀Gar...</td>\n",
       "      <td>10 steps from the boardwalk! Beautiful beach h...</td>\n",
       "      <td>NaN</td>\n",
       "      <td>52.0</td>\n",
       "      <td>32.78568</td>\n",
       "      <td>-117.25271</td>\n",
       "      <td>Entire home</td>\n",
       "      <td>Entire home/apt</td>\n",
       "      <td>2.0</td>\n",
       "      <td>2.0</td>\n",
       "      <td>...</td>\n",
       "      <td>4.9</td>\n",
       "      <td>t</td>\n",
       "      <td>30</td>\n",
       "      <td>0</td>\n",
       "      <td>0</td>\n",
       "      <td>3.77</td>\n",
       "      <td>92109</td>\n",
       "      <td>95170.0</td>\n",
       "      <td>house</td>\n",
       "      <td>1</td>\n",
       "    </tr>\n",
       "  </tbody>\n",
       "</table>\n",
       "<p>1 rows × 31 columns</p>\n",
       "</div>"
      ],
      "text/plain": [
       "                                                name  \\\n",
       "0  Huge Oceanview decks+RooftopDeck☀sleeps 10☀Gar...   \n",
       "\n",
       "                                         description neighborhood_overview  \\\n",
       "0  10 steps from the boardwalk! Beautiful beach h...                   NaN   \n",
       "\n",
       "   host_listings_count  latitude  longitude property_type        room_type  \\\n",
       "0                 52.0  32.78568 -117.25271   Entire home  Entire home/apt   \n",
       "\n",
       "   bathrooms  bedrooms  ...  review_scores_location  instant_bookable  \\\n",
       "0        2.0       2.0  ...                     4.9                 t   \n",
       "\n",
       "   calculated_host_listings_count  \\\n",
       "0                              30   \n",
       "\n",
       "   calculated_host_listings_count_private_rooms  \\\n",
       "0                                             0   \n",
       "\n",
       "   calculated_host_listings_count_shared_rooms reviews_per_month  zipcode  \\\n",
       "0                                            0              3.77    92109   \n",
       "\n",
       "   median_income_dollars  property_type_binary  private  \n",
       "0                95170.0                 house        1  \n",
       "\n",
       "[1 rows x 31 columns]"
      ]
     },
     "execution_count": 2,
     "metadata": {},
     "output_type": "execute_result"
    }
   ],
   "source": [
    "# Import data from last notebook\n",
    "eda_df = pd.read_csv(\"../Data/eda.csv.gz\", compression = \"gzip\")\n",
    "eda_df.head(1)"
   ]
  },
  {
   "cell_type": "markdown",
   "metadata": {},
   "source": [
    "## Sentiment Based Feature Creation\n",
    "In order to capture the sentiment from our text-based variables, we will use transfer learning with a pre-trained model.\n",
    "\n",
    "First we'll combine all of our text-based columns into one."
   ]
  },
  {
   "cell_type": "code",
   "execution_count": 3,
   "metadata": {},
   "outputs": [],
   "source": [
    "# In order to combine, we need to fill any NAs with blank strings\n",
    "eda_df[['name', 'description', 'neighborhood_overview']] = eda_df[['name', 'description', 'neighborhood_overview']].fillna('')\n",
    "\n",
    "# Combine\n",
    "eda_df['text'] = eda_df['name'] + eda_df['description']\n",
    "eda_df['text'] = eda_df['text'] + eda_df['neighborhood_overview']\n",
    "\n",
    "# Our model can only handle less than 512 tokens so we'll truncate down\n",
    "eda_df['text_trunc'] = eda_df['text'].str.slice(0, 511)\n",
    "\n",
    "# How many observations were affected - Looks like none, but still got an error - could be due to different tokenzations\n",
    "eda_df['word_counts'] = eda_df['text'].apply(lambda n : len(n.split())) \n",
    "len(eda_df[eda_df['word_counts'] < 511])\n",
    "\n",
    "# Save our observations as a list\n",
    "corpus = eda_df['text_trunc'].to_list()\n"
   ]
  },
  {
   "cell_type": "code",
   "execution_count": 4,
   "metadata": {},
   "outputs": [
    {
     "name": "stderr",
     "output_type": "stream",
     "text": [
      "No model was supplied, defaulted to distilbert-base-uncased-finetuned-sst-2-english and revision af0f99b (https://huggingface.co/distilbert-base-uncased-finetuned-sst-2-english).\n",
      "Using a pipeline without specifying a model name and revision in production is not recommended.\n",
      "All PyTorch model weights were used when initializing TFDistilBertForSequenceClassification.\n",
      "\n",
      "All the weights of TFDistilBertForSequenceClassification were initialized from the PyTorch model.\n",
      "If your task is similar to the task the model of the checkpoint was trained on, you can already use TFDistilBertForSequenceClassification for predictions without further training.\n"
     ]
    }
   ],
   "source": [
    "# Load our model\n",
    "sent_clf = pipeline('sentiment-analysis')\n",
    "\n",
    "preds = []\n",
    "for i in corpus:\n",
    "    try:\n",
    "        pred = sent_clf(i)\n",
    "        preds.append(pred)\n",
    "    except:\n",
    "        preds.append(np.nan)\n"
   ]
  },
  {
   "cell_type": "code",
   "execution_count": 5,
   "metadata": {},
   "outputs": [],
   "source": [
    "# Un-nest the list\n",
    "import operator \n",
    "from functools import reduce\n",
    "\n",
    "preds2 = reduce(operator.add, preds)\n",
    "\n",
    "# Create probability of positive as our variable\n",
    "probs = [x['score'] if x['label'].startswith('P') else 1 - x['score'] for x in preds2]\n",
    "\n",
    "# Save as variable in our df\n",
    "eda_df['sentiment'] = probs"
   ]
  },
  {
   "cell_type": "code",
   "execution_count": 6,
   "metadata": {},
   "outputs": [
    {
     "name": "stderr",
     "output_type": "stream",
     "text": [
      "C:\\Users\\HunterBlum\\AppData\\Roaming\\Python\\Python39\\site-packages\\pandas\\core\\internals\\blocks.py:2538: RuntimeWarning: invalid value encountered in cast\n",
      "  values = values.astype(str)\n"
     ]
    }
   ],
   "source": [
    "# Write new df so we don't need to rerun model everytime\n",
    "eda_df.to_csv(\"../Data/sentiment.csv.gz\", compression= \"gzip\", index=False)"
   ]
  },
  {
   "cell_type": "markdown",
   "metadata": {},
   "source": [
    "## Review Feature Creation\n",
    "\n",
    "We did some further exploration on reviews since we believed that they were an important part of the process. We discovered that creating a weighted review score by multiplying the number of reviews and review score rating variable led to a high correlation with price."
   ]
  },
  {
   "cell_type": "code",
   "execution_count": 3,
   "metadata": {},
   "outputs": [
    {
     "data": {
      "text/html": [
       "<div>\n",
       "<style scoped>\n",
       "    .dataframe tbody tr th:only-of-type {\n",
       "        vertical-align: middle;\n",
       "    }\n",
       "\n",
       "    .dataframe tbody tr th {\n",
       "        vertical-align: top;\n",
       "    }\n",
       "\n",
       "    .dataframe thead th {\n",
       "        text-align: right;\n",
       "    }\n",
       "</style>\n",
       "<table border=\"1\" class=\"dataframe\">\n",
       "  <thead>\n",
       "    <tr style=\"text-align: right;\">\n",
       "      <th></th>\n",
       "      <th>name</th>\n",
       "      <th>description</th>\n",
       "      <th>neighborhood_overview</th>\n",
       "      <th>host_listings_count</th>\n",
       "      <th>latitude</th>\n",
       "      <th>longitude</th>\n",
       "      <th>property_type</th>\n",
       "      <th>room_type</th>\n",
       "      <th>bathrooms</th>\n",
       "      <th>bedrooms</th>\n",
       "      <th>...</th>\n",
       "      <th>calculated_host_listings_count_shared_rooms</th>\n",
       "      <th>reviews_per_month</th>\n",
       "      <th>zipcode</th>\n",
       "      <th>median_income_dollars</th>\n",
       "      <th>property_type_binary</th>\n",
       "      <th>private</th>\n",
       "      <th>text</th>\n",
       "      <th>text_trunc</th>\n",
       "      <th>word_counts</th>\n",
       "      <th>sentiment</th>\n",
       "    </tr>\n",
       "  </thead>\n",
       "  <tbody>\n",
       "    <tr>\n",
       "      <th>0</th>\n",
       "      <td>Huge Oceanview decks+RooftopDeck☀sleeps 10☀Gar...</td>\n",
       "      <td>10 steps from the boardwalk! Beautiful beach h...</td>\n",
       "      <td>NaN</td>\n",
       "      <td>52.0</td>\n",
       "      <td>32.78568</td>\n",
       "      <td>-117.25271</td>\n",
       "      <td>Entire home</td>\n",
       "      <td>Entire home/apt</td>\n",
       "      <td>2.0</td>\n",
       "      <td>2.0</td>\n",
       "      <td>...</td>\n",
       "      <td>0</td>\n",
       "      <td>3.77</td>\n",
       "      <td>92109</td>\n",
       "      <td>95170.0</td>\n",
       "      <td>house</td>\n",
       "      <td>1</td>\n",
       "      <td>Huge Oceanview decks+RooftopDeck☀sleeps 10☀Gar...</td>\n",
       "      <td>Huge Oceanview decks+RooftopDeck☀sleeps 10☀Gar...</td>\n",
       "      <td>171</td>\n",
       "      <td>0.900577</td>\n",
       "    </tr>\n",
       "  </tbody>\n",
       "</table>\n",
       "<p>1 rows × 35 columns</p>\n",
       "</div>"
      ],
      "text/plain": [
       "                                                name  \\\n",
       "0  Huge Oceanview decks+RooftopDeck☀sleeps 10☀Gar...   \n",
       "\n",
       "                                         description neighborhood_overview  \\\n",
       "0  10 steps from the boardwalk! Beautiful beach h...                   NaN   \n",
       "\n",
       "   host_listings_count  latitude  longitude property_type        room_type  \\\n",
       "0                 52.0  32.78568 -117.25271   Entire home  Entire home/apt   \n",
       "\n",
       "   bathrooms  bedrooms  ...  calculated_host_listings_count_shared_rooms  \\\n",
       "0        2.0       2.0  ...                                            0   \n",
       "\n",
       "   reviews_per_month  zipcode  median_income_dollars  property_type_binary  \\\n",
       "0               3.77    92109                95170.0                 house   \n",
       "\n",
       "  private                                               text  \\\n",
       "0       1  Huge Oceanview decks+RooftopDeck☀sleeps 10☀Gar...   \n",
       "\n",
       "                                          text_trunc  word_counts  sentiment  \n",
       "0  Huge Oceanview decks+RooftopDeck☀sleeps 10☀Gar...          171   0.900577  \n",
       "\n",
       "[1 rows x 35 columns]"
      ]
     },
     "execution_count": 3,
     "metadata": {},
     "output_type": "execute_result"
    }
   ],
   "source": [
    "# Read back in the data with sentiments\n",
    "sent_df = pd.read_csv(\"../Data/sentiment.csv.gz\", compression = \"gzip\")\n",
    "sent_df.head(1)"
   ]
  },
  {
   "cell_type": "code",
   "execution_count": 4,
   "metadata": {},
   "outputs": [
    {
     "data": {
      "text/plain": [
       "Text(0, 0.5, 'Price')"
      ]
     },
     "execution_count": 4,
     "metadata": {},
     "output_type": "execute_result"
    },
    {
     "data": {
      "image/png": "[encoded data removed]",
      "text/plain": [
       "<Figure size 640x480 with 1 Axes>"
      ]
     },
     "metadata": {},
     "output_type": "display_data"
    }
   ],
   "source": [
    "import matplotlib.pyplot as plt\n",
    "\n",
    "# Remove the large outlier\n",
    "sent_df = sent_df[sent_df['price'] < 80000]\n",
    "sent_df['review_score_weighted'] = sent_df['review_scores_rating'] * sent_df['number_of_reviews']\n",
    "plt.plot('review_score_weighted', 'price', data=sent_df, marker = 'o', linestyle = 'none')\n",
    "plt.xlabel('Weighted Review Score')\n",
    "plt.ylabel('Price')"
   ]
  },
  {
   "cell_type": "markdown",
   "metadata": {},
   "source": [
    "## Feature Removal"
   ]
  },
  {
   "cell_type": "markdown",
   "metadata": {},
   "source": [
    "We do not need the text based features that were originally in the data as well as the ones we created, since they are being replaced by the sentiment variable. The same goes for our review features being replaced by the weighted review score. Finally, we will remove the latitude and longitude. As we discussed in the EDA notebook, they have a very low variance, and are being replaced by the categorical zipcode variable."
   ]
  },
  {
   "cell_type": "code",
   "execution_count": 5,
   "metadata": {},
   "outputs": [],
   "source": [
    "# Remove the text columns\n",
    "sent_df = sent_df.drop(columns = [\n",
    "    'name', 'description', 'neighborhood_overview',\n",
    "    'text', 'text_trunc', 'word_counts']\n",
    "    )\n",
    "\n",
    "# Remove the review score columns\n",
    "sent_df = sent_df.drop(columns=[\n",
    "    'review_scores_rating', 'review_scores_checkin',\n",
    "    'review_scores_location', 'number_of_reviews'\n",
    "])\n",
    "\n",
    "# Remove low variance features \n",
    "sent_df = sent_df.drop(columns=['longitude', 'latitude'])\n"
   ]
  },
  {
   "cell_type": "markdown",
   "metadata": {},
   "source": [
    "## Data Types\n",
    "Let's make sure all the columns are the correct data type "
   ]
  },
  {
   "cell_type": "code",
   "execution_count": 6,
   "metadata": {},
   "outputs": [
    {
     "data": {
      "text/plain": [
       "host_listings_count                             float64\n",
       "property_type                                    object\n",
       "room_type                                        object\n",
       "bathrooms                                       float64\n",
       "bedrooms                                        float64\n",
       "price                                           float64\n",
       "minimum_nights                                    int64\n",
       "maximum_nights                                    int64\n",
       "minimum_minimum_nights                          float64\n",
       "maximum_maximum_nights                          float64\n",
       "has_availability                                 object\n",
       "availability_30                                   int64\n",
       "availability_365                                  int64\n",
       "instant_bookable                                 object\n",
       "calculated_host_listings_count                    int64\n",
       "calculated_host_listings_count_private_rooms      int64\n",
       "calculated_host_listings_count_shared_rooms       int64\n",
       "reviews_per_month                               float64\n",
       "zipcode                                           int64\n",
       "median_income_dollars                           float64\n",
       "property_type_binary                             object\n",
       "private                                           int64\n",
       "sentiment                                       float64\n",
       "review_score_weighted                           float64\n",
       "dtype: object"
      ]
     },
     "execution_count": 6,
     "metadata": {},
     "output_type": "execute_result"
    }
   ],
   "source": [
    "sent_df.dtypes"
   ]
  },
  {
   "cell_type": "code",
   "execution_count": 7,
   "metadata": {},
   "outputs": [],
   "source": [
    "# Zipcode is categorical not numeric so we'll change it to an object\n",
    "sent_df['zipcode'] = sent_df['zipcode'].astype(object)"
   ]
  },
  {
   "cell_type": "code",
   "execution_count": 8,
   "metadata": {},
   "outputs": [
    {
     "name": "stderr",
     "output_type": "stream",
     "text": [
      "C:\\Users\\HunterBlum\\AppData\\Roaming\\Python\\Python39\\site-packages\\pandas\\core\\internals\\blocks.py:2538: RuntimeWarning: invalid value encountered in cast\n",
      "  values = values.astype(str)\n"
     ]
    }
   ],
   "source": [
    "# Read out clean df\n",
    "sent_df.to_csv(\"../Data/clean_df.csv.gz\", compression= \"gzip\", index=False)"
   ]
  },
  {
   "cell_type": "markdown",
   "metadata": {},
   "source": [
    "## Imputation Strategy\n",
    "Currently most of our missing data is coming from review related features. To prevent losing any observations to train on, we will impute any missing numeric features with the median of that column for the training dataset. Imputation will be handled in the modeling pipeline to prevent any spillover from training to testing datasets. No categorical feature had missing data, so we will not need to worry about imputation for those features."
   ]
  },
  {
   "cell_type": "code",
   "execution_count": null,
   "metadata": {},
   "outputs": [
    {
     "data": {
      "text/html": [
       "<div>\n",
       "<style scoped>\n",
       "    .dataframe tbody tr th:only-of-type {\n",
       "        vertical-align: middle;\n",
       "    }\n",
       "\n",
       "    .dataframe tbody tr th {\n",
       "        vertical-align: top;\n",
       "    }\n",
       "\n",
       "    .dataframe thead th {\n",
       "        text-align: right;\n",
       "    }\n",
       "</style>\n",
       "<table border=\"1\" class=\"dataframe\">\n",
       "  <thead>\n",
       "    <tr style=\"text-align: right;\">\n",
       "      <th></th>\n",
       "      <th>host_listings_count</th>\n",
       "      <th>property_type</th>\n",
       "      <th>room_type</th>\n",
       "      <th>bathrooms</th>\n",
       "      <th>bedrooms</th>\n",
       "      <th>price</th>\n",
       "      <th>minimum_nights</th>\n",
       "      <th>maximum_nights</th>\n",
       "      <th>minimum_minimum_nights</th>\n",
       "      <th>maximum_maximum_nights</th>\n",
       "      <th>...</th>\n",
       "      <th>calculated_host_listings_count</th>\n",
       "      <th>calculated_host_listings_count_private_rooms</th>\n",
       "      <th>calculated_host_listings_count_shared_rooms</th>\n",
       "      <th>reviews_per_month</th>\n",
       "      <th>zipcode</th>\n",
       "      <th>median_income_dollars</th>\n",
       "      <th>property_type_binary</th>\n",
       "      <th>private</th>\n",
       "      <th>sentiment</th>\n",
       "      <th>review_score_weighted</th>\n",
       "    </tr>\n",
       "  </thead>\n",
       "  <tbody>\n",
       "    <tr>\n",
       "      <th>0</th>\n",
       "      <td>52.0</td>\n",
       "      <td>Entire home</td>\n",
       "      <td>Entire home/apt</td>\n",
       "      <td>2.0</td>\n",
       "      <td>2.0</td>\n",
       "      <td>728.0</td>\n",
       "      <td>2</td>\n",
       "      <td>28</td>\n",
       "      <td>1.0</td>\n",
       "      <td>1125.0</td>\n",
       "      <td>...</td>\n",
       "      <td>30</td>\n",
       "      <td>0</td>\n",
       "      <td>0</td>\n",
       "      <td>3.77</td>\n",
       "      <td>92109</td>\n",
       "      <td>95170.0</td>\n",
       "      <td>house</td>\n",
       "      <td>1</td>\n",
       "      <td>0.900577</td>\n",
       "      <td>150.04</td>\n",
       "    </tr>\n",
       "  </tbody>\n",
       "</table>\n",
       "<p>1 rows × 24 columns</p>\n",
       "</div>"
      ],
      "text/plain": [
       "   host_listings_count property_type        room_type  bathrooms  bedrooms  \\\n",
       "0                 52.0   Entire home  Entire home/apt        2.0       2.0   \n",
       "\n",
       "   price  minimum_nights  maximum_nights  minimum_minimum_nights  \\\n",
       "0  728.0               2              28                     1.0   \n",
       "\n",
       "   maximum_maximum_nights  ... calculated_host_listings_count  \\\n",
       "0                  1125.0  ...                             30   \n",
       "\n",
       "   calculated_host_listings_count_private_rooms  \\\n",
       "0                                             0   \n",
       "\n",
       "   calculated_host_listings_count_shared_rooms reviews_per_month  zipcode  \\\n",
       "0                                            0              3.77    92109   \n",
       "\n",
       "   median_income_dollars  property_type_binary  private  sentiment  \\\n",
       "0                95170.0                 house        1   0.900577   \n",
       "\n",
       "   review_score_weighted  \n",
       "0                 150.04  \n",
       "\n",
       "[1 rows x 24 columns]"
      ]
     },
     "metadata": {},
     "output_type": "display_data"
    }
   ],
   "source": [
    "# Read in the csv file from the previous notebook\n",
    "preproc_df = pd.read_csv(\"../Data/clean_df.csv.gz\",\n",
    "                         compression = \"gzip\")\n",
    "\n",
    "preproc_df.head(1)"
   ]
  },
  {
   "cell_type": "code",
   "execution_count": null,
   "metadata": {},
   "outputs": [
    {
     "data": {
      "text/plain": [
       "host_listings_count                               51\n",
       "property_type                                      0\n",
       "room_type                                          0\n",
       "bathrooms                                          6\n",
       "bedrooms                                        1538\n",
       "price                                              0\n",
       "minimum_nights                                     0\n",
       "maximum_nights                                     0\n",
       "minimum_minimum_nights                             2\n",
       "maximum_maximum_nights                             2\n",
       "has_availability                                   0\n",
       "availability_30                                    0\n",
       "availability_365                                   0\n",
       "instant_bookable                                   0\n",
       "calculated_host_listings_count                     0\n",
       "calculated_host_listings_count_private_rooms       0\n",
       "calculated_host_listings_count_shared_rooms        0\n",
       "reviews_per_month                               3186\n",
       "zipcode                                            0\n",
       "median_income_dollars                              0\n",
       "property_type_binary                               0\n",
       "private                                            0\n",
       "sentiment                                          0\n",
       "review_score_weighted                           3186\n",
       "dtype: int64"
      ]
     },
     "metadata": {},
     "output_type": "display_data"
    }
   ],
   "source": [
    "preproc_df.isna().sum()"
   ]
  },
  {
   "cell_type": "code",
   "execution_count": null,
   "metadata": {},
   "outputs": [
    {
     "data": {
      "text/plain": [
       "bedrooms              247\n",
       "reviews_per_month    3186\n",
       "dtype: int64"
      ]
     },
     "metadata": {},
     "output_type": "display_data"
    }
   ],
   "source": [
    "# Check if the missing values are due to incomplete rows\n",
    "preproc_df.loc[\n",
    "preproc_df[\"review_score_weighted\"].isnull(), \n",
    "    [\"bedrooms\", \n",
    "     \"reviews_per_month\"]\n",
    "].isna().sum()"
   ]
  },
  {
   "cell_type": "markdown",
   "metadata": {},
   "source": [
    "The above analysis shows that every record missing values in the feature _reviews_per_month_ is also missing values in review_scores_rated. "
   ]
  },
  {
   "cell_type": "markdown",
   "metadata": {},
   "source": [
    "The below cell shows the results of dropping records with missing values in the field _reviews_per_month_. The alternative solution is to remove review-related features or to impute the missing values."
   ]
  },
  {
   "cell_type": "code",
   "execution_count": null,
   "metadata": {},
   "outputs": [
    {
     "data": {
      "text/plain": [
       "host_listings_count                                3\n",
       "property_type                                      0\n",
       "room_type                                          0\n",
       "bathrooms                                          3\n",
       "bedrooms                                        1291\n",
       "price                                              0\n",
       "minimum_nights                                     0\n",
       "maximum_nights                                     0\n",
       "minimum_minimum_nights                             1\n",
       "maximum_maximum_nights                             1\n",
       "has_availability                                   0\n",
       "availability_30                                    0\n",
       "availability_365                                   0\n",
       "instant_bookable                                   0\n",
       "calculated_host_listings_count                     0\n",
       "calculated_host_listings_count_private_rooms       0\n",
       "calculated_host_listings_count_shared_rooms        0\n",
       "reviews_per_month                                  0\n",
       "zipcode                                            0\n",
       "median_income_dollars                              0\n",
       "property_type_binary                               0\n",
       "private                                            0\n",
       "sentiment                                          0\n",
       "review_score_weighted                              0\n",
       "dtype: int64"
      ]
     },
     "metadata": {},
     "output_type": "display_data"
    }
   ],
   "source": [
    "# If incomplete records were to be dropped, it would resolve many missing value issues\n",
    "preproc_df.dropna(subset = [\"reviews_per_month\"]).isnull().sum()"
   ]
  }
 ],
 "metadata": {
  "kernelspec": {
   "display_name": "base",
   "language": "python",
   "name": "python3"
  },
  "language_info": {
   "codemirror_mode": {
    "name": "ipython",
    "version": 3
   },
   "file_extension": ".py",
   "mimetype": "text/x-python",
   "name": "python",
   "nbconvert_exporter": "python",
   "pygments_lexer": "ipython3",
   "version": "3.9.13"
  },
  "orig_nbformat": 4
 },
 "nbformat": 4,
 "nbformat_minor": 2
}
