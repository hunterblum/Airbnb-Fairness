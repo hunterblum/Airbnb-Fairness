{
 "cells": [
  {
   "cell_type": "markdown",
   "metadata": {},
   "source": [
    "# Notebook 2: Data Cleaning and Feature Engineering\n",
    "\n",
    "_For USD-599 Capstone Project by Hunter Blum, Kyle Esteban Dalope, and Nicholas Lee (Summer 2023)_\n",
    "\n",
    "***\n",
    "\n",
    "**Content Overview:**\n",
    "1. Text Sentiment Feature Creation\n",
    "\n",
    "**Note: Some Cleaning and Engineering Steps Already Performed in Notebook 1: Data Exploration**\n",
    "1. Dropped \"source\" column.\n",
    "2. Removed duplicates keeping, most recent (date) observation.\n",
    "3. Removed uneeded columns such as pictures, host id's, etc. \n",
    "4. Filled missing values for bathrooms.\n",
    "5. Added zipcodes for neighborhood categories.\n"
   ]
  },
  {
   "cell_type": "code",
   "execution_count": 1,
   "metadata": {},
   "outputs": [
    {
     "name": "stderr",
     "output_type": "stream",
     "text": [
      "c:\\ProgramData\\Anaconda3\\lib\\site-packages\\scipy\\__init__.py:155: UserWarning: A NumPy version >=1.18.5 and <1.25.0 is required for this version of SciPy (detected version 1.25.1\n",
      "  warnings.warn(f\"A NumPy version >={np_minversion} and <{np_maxversion}\"\n"
     ]
    }
   ],
   "source": [
    "# Library Imports\n",
    "import pandas as pd\n",
    "import numpy as np\n",
    "\n",
    "# Note needed to install older version 4.28.0\n",
    "from transformers import pipeline"
   ]
  },
  {
   "cell_type": "code",
   "execution_count": 2,
   "metadata": {},
   "outputs": [
    {
     "data": {
      "text/html": [
       "<div>\n",
       "<style scoped>\n",
       "    .dataframe tbody tr th:only-of-type {\n",
       "        vertical-align: middle;\n",
       "    }\n",
       "\n",
       "    .dataframe tbody tr th {\n",
       "        vertical-align: top;\n",
       "    }\n",
       "\n",
       "    .dataframe thead th {\n",
       "        text-align: right;\n",
       "    }\n",
       "</style>\n",
       "<table border=\"1\" class=\"dataframe\">\n",
       "  <thead>\n",
       "    <tr style=\"text-align: right;\">\n",
       "      <th></th>\n",
       "      <th>id</th>\n",
       "      <th>last_scraped</th>\n",
       "      <th>name</th>\n",
       "      <th>description</th>\n",
       "      <th>neighborhood_overview</th>\n",
       "      <th>host_neighbourhood</th>\n",
       "      <th>host_listings_count</th>\n",
       "      <th>host_total_listings_count</th>\n",
       "      <th>neighbourhood</th>\n",
       "      <th>neighbourhood_cleansed</th>\n",
       "      <th>...</th>\n",
       "      <th>instant_bookable</th>\n",
       "      <th>calculated_host_listings_count</th>\n",
       "      <th>calculated_host_listings_count_entire_homes</th>\n",
       "      <th>calculated_host_listings_count_private_rooms</th>\n",
       "      <th>calculated_host_listings_count_shared_rooms</th>\n",
       "      <th>reviews_per_month</th>\n",
       "      <th>zipcode</th>\n",
       "      <th>median_income_dollars</th>\n",
       "      <th>property_type_binary</th>\n",
       "      <th>private</th>\n",
       "    </tr>\n",
       "  </thead>\n",
       "  <tbody>\n",
       "    <tr>\n",
       "      <th>0</th>\n",
       "      <td>52582829</td>\n",
       "      <td>2022-06-15</td>\n",
       "      <td>Huge Oceanview decks+RooftopDeck☀sleeps 10☀Gar...</td>\n",
       "      <td>10 steps from the boardwalk! Beautiful beach h...</td>\n",
       "      <td>NaN</td>\n",
       "      <td>NaN</td>\n",
       "      <td>52.0</td>\n",
       "      <td>52.0</td>\n",
       "      <td>NaN</td>\n",
       "      <td>Mission Bay</td>\n",
       "      <td>...</td>\n",
       "      <td>t</td>\n",
       "      <td>30</td>\n",
       "      <td>30</td>\n",
       "      <td>0</td>\n",
       "      <td>0</td>\n",
       "      <td>3.77</td>\n",
       "      <td>92109</td>\n",
       "      <td>95170.0</td>\n",
       "      <td>house</td>\n",
       "      <td>1</td>\n",
       "    </tr>\n",
       "  </tbody>\n",
       "</table>\n",
       "<p>1 rows × 57 columns</p>\n",
       "</div>"
      ],
      "text/plain": [
       "         id last_scraped                                               name  \\\n",
       "0  52582829   2022-06-15  Huge Oceanview decks+RooftopDeck☀sleeps 10☀Gar...   \n",
       "\n",
       "                                         description neighborhood_overview  \\\n",
       "0  10 steps from the boardwalk! Beautiful beach h...                   NaN   \n",
       "\n",
       "  host_neighbourhood  host_listings_count  host_total_listings_count  \\\n",
       "0                NaN                 52.0                       52.0   \n",
       "\n",
       "  neighbourhood neighbourhood_cleansed  ...  instant_bookable  \\\n",
       "0           NaN            Mission Bay  ...                 t   \n",
       "\n",
       "   calculated_host_listings_count calculated_host_listings_count_entire_homes  \\\n",
       "0                              30                                          30   \n",
       "\n",
       "  calculated_host_listings_count_private_rooms  \\\n",
       "0                                            0   \n",
       "\n",
       "   calculated_host_listings_count_shared_rooms  reviews_per_month  zipcode  \\\n",
       "0                                            0               3.77    92109   \n",
       "\n",
       "   median_income_dollars property_type_binary  private  \n",
       "0                95170.0                house        1  \n",
       "\n",
       "[1 rows x 57 columns]"
      ]
     },
     "execution_count": 2,
     "metadata": {},
     "output_type": "execute_result"
    }
   ],
   "source": [
    "# Import data from last notebook\n",
    "eda_df = pd.read_csv(\"../Data/eda.csv.gz\", compression = \"gzip\")\n",
    "eda_df.head(1)"
   ]
  },
  {
   "cell_type": "markdown",
   "metadata": {},
   "source": [
    "## Sentiment Based Feature Creation\n",
    "In order to capture the sentiment from our text-based variables, we will use transfer learning with a pre-trained model.\n",
    "\n",
    "First we'll combine all of our text-based columns into one."
   ]
  },
  {
   "cell_type": "code",
   "execution_count": 16,
   "metadata": {},
   "outputs": [],
   "source": [
    "# In order to combine, we need to fill any NAs with blank strings\n",
    "eda_df[['name', 'description', 'neighborhood_overview']] = eda_df[['name', 'description', 'neighborhood_overview']].fillna('')\n",
    "\n",
    "# Combine\n",
    "eda_df['text'] = eda_df['name'] + eda_df['description']\n",
    "eda_df['text'] = eda_df['text'] + eda_df['neighborhood_overview']\n",
    "\n",
    "# Our model can only handle less than 512 tokens so we'll truncate down\n",
    "eda_df['text_trunc'] = eda_df['text'].str.slice(0, 511)\n",
    "\n",
    "# How many observations were affected - Looks like none, but still got an error - could be due to different tokenzations\n",
    "eda_df['word_counts'] = eda_df['text'].apply(lambda n : len(n.split())) \n",
    "len(eda_df[eda_df['word_counts'] < 511])\n",
    "\n",
    "# Save our observations as a list\n",
    "corpus = eda_df['text_trunc'].to_list()\n"
   ]
  },
  {
   "cell_type": "code",
   "execution_count": 17,
   "metadata": {},
   "outputs": [
    {
     "name": "stderr",
     "output_type": "stream",
     "text": [
      "No model was supplied, defaulted to distilbert-base-uncased-finetuned-sst-2-english and revision af0f99b (https://huggingface.co/distilbert-base-uncased-finetuned-sst-2-english).\n",
      "Using a pipeline without specifying a model name and revision in production is not recommended.\n",
      "All PyTorch model weights were used when initializing TFDistilBertForSequenceClassification.\n",
      "\n",
      "All the weights of TFDistilBertForSequenceClassification were initialized from the PyTorch model.\n",
      "If your task is similar to the task the model of the checkpoint was trained on, you can already use TFDistilBertForSequenceClassification for predictions without further training.\n"
     ]
    }
   ],
   "source": [
    "# Load our model\n",
    "sent_clf = pipeline('sentiment-analysis')\n",
    "\n",
    "preds = []\n",
    "for i in corpus:\n",
    "    try:\n",
    "        pred = sent_clf(i)\n",
    "        preds.append(pred)\n",
    "    except:\n",
    "        preds.append(np.nan)\n"
   ]
  },
  {
   "cell_type": "code",
   "execution_count": 30,
   "metadata": {},
   "outputs": [],
   "source": [
    "# Un-nest the list\n",
    "import operator \n",
    "from functools import reduce\n",
    "\n",
    "preds2 = reduce(operator.add, preds)\n",
    "\n",
    "# Create probability of positive as our variable\n",
    "probs = [x['score'] if x['label'].startswith('P') else 1 - x['score'] for x in preds2]\n",
    "\n",
    "# Save as variable in our df\n",
    "eda_df['sentiment'] = probs"
   ]
  },
  {
   "cell_type": "code",
   "execution_count": 31,
   "metadata": {},
   "outputs": [],
   "source": [
    "# Write new df so we don't need to rerun model everytime\n",
    "eda_df.to_csv(\"../Data/sentiment.csv.gz\", compression= \"gzip\", index=False)"
   ]
  },
  {
   "cell_type": "markdown",
   "metadata": {},
   "source": [
    "## Part 2"
   ]
  }
 ],
 "metadata": {
  "kernelspec": {
   "display_name": "base",
   "language": "python",
   "name": "python3"
  },
  "language_info": {
   "codemirror_mode": {
    "name": "ipython",
    "version": 3
   },
   "file_extension": ".py",
   "mimetype": "text/x-python",
   "name": "python",
   "nbconvert_exporter": "python",
   "pygments_lexer": "ipython3",
   "version": "3.9.13"
  },
  "orig_nbformat": 4
 },
 "nbformat": 4,
 "nbformat_minor": 2
}
