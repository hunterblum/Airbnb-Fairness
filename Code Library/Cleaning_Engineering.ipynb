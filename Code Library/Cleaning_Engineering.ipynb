{
 "cells": [
  {
   "cell_type": "markdown",
   "metadata": {},
   "source": [
    "# Notebook 2: Data Cleaning and Feature Engineering\n",
    "\n",
    "_For USD-599 Capstone Project by Hunter Blum, Kyle Esteban Dalope, and Nicholas Lee (Summer 2023)_\n",
    "\n",
    "***\n",
    "\n",
    "**Content Overview:**\n",
    "1. Text Sentiment Feature Creation\n",
    "2. Feature Removal and Selection\n",
    "\n",
    "**Note: Some Cleaning and Engineering Steps Already Performed in Notebook 1: Data Exploration**\n",
    "1. Dropped \"source\" column.\n",
    "2. Removed duplicates keeping, most recent (date) observation.\n",
    "3. Removed uneeded columns such as pictures, host id's, etc. \n",
    "4. Filled missing values for bathrooms.\n",
    "5. Added zipcodes for neighborhood categories.\n",
    "6. Created a binary variable based on property type descriptions.\n",
    "7. Created a binary variable based on if a property is private or shared with host."
   ]
  },
  {
   "cell_type": "code",
   "execution_count": null,
   "metadata": {},
   "outputs": [],
   "source": [
    "# Library Imports\n",
    "import pandas as pd\n",
    "import numpy as np\n",
    "\n",
    "# Note needed to install older version 4.28.0\n",
    "from transformers import pipeline"
   ]
  },
  {
   "cell_type": "code",
   "execution_count": 3,
   "metadata": {},
   "outputs": [
    {
     "data": {
      "text/html": [
       "<div>\n",
       "<style scoped>\n",
       "    .dataframe tbody tr th:only-of-type {\n",
       "        vertical-align: middle;\n",
       "    }\n",
       "\n",
       "    .dataframe tbody tr th {\n",
       "        vertical-align: top;\n",
       "    }\n",
       "\n",
       "    .dataframe thead th {\n",
       "        text-align: right;\n",
       "    }\n",
       "</style>\n",
       "<table border=\"1\" class=\"dataframe\">\n",
       "  <thead>\n",
       "    <tr style=\"text-align: right;\">\n",
       "      <th></th>\n",
       "      <th>id</th>\n",
       "      <th>last_scraped</th>\n",
       "      <th>name</th>\n",
       "      <th>description</th>\n",
       "      <th>neighborhood_overview</th>\n",
       "      <th>host_neighbourhood</th>\n",
       "      <th>host_listings_count</th>\n",
       "      <th>host_total_listings_count</th>\n",
       "      <th>neighbourhood</th>\n",
       "      <th>neighbourhood_cleansed</th>\n",
       "      <th>...</th>\n",
       "      <th>instant_bookable</th>\n",
       "      <th>calculated_host_listings_count</th>\n",
       "      <th>calculated_host_listings_count_entire_homes</th>\n",
       "      <th>calculated_host_listings_count_private_rooms</th>\n",
       "      <th>calculated_host_listings_count_shared_rooms</th>\n",
       "      <th>reviews_per_month</th>\n",
       "      <th>zipcode</th>\n",
       "      <th>median_income_dollars</th>\n",
       "      <th>property_type_binary</th>\n",
       "      <th>private</th>\n",
       "    </tr>\n",
       "  </thead>\n",
       "  <tbody>\n",
       "    <tr>\n",
       "      <th>0</th>\n",
       "      <td>52582829</td>\n",
       "      <td>2022-06-15</td>\n",
       "      <td>Huge Oceanview decks+RooftopDeck☀sleeps 10☀Gar...</td>\n",
       "      <td>10 steps from the boardwalk! Beautiful beach h...</td>\n",
       "      <td>NaN</td>\n",
       "      <td>NaN</td>\n",
       "      <td>52.0</td>\n",
       "      <td>52.0</td>\n",
       "      <td>NaN</td>\n",
       "      <td>Mission Bay</td>\n",
       "      <td>...</td>\n",
       "      <td>t</td>\n",
       "      <td>30</td>\n",
       "      <td>30</td>\n",
       "      <td>0</td>\n",
       "      <td>0</td>\n",
       "      <td>3.77</td>\n",
       "      <td>92109</td>\n",
       "      <td>95170.0</td>\n",
       "      <td>house</td>\n",
       "      <td>1</td>\n",
       "    </tr>\n",
       "  </tbody>\n",
       "</table>\n",
       "<p>1 rows × 57 columns</p>\n",
       "</div>"
      ],
      "text/plain": [
       "         id last_scraped                                               name  \\\n",
       "0  52582829   2022-06-15  Huge Oceanview decks+RooftopDeck☀sleeps 10☀Gar...   \n",
       "\n",
       "                                         description neighborhood_overview  \\\n",
       "0  10 steps from the boardwalk! Beautiful beach h...                   NaN   \n",
       "\n",
       "  host_neighbourhood  host_listings_count  host_total_listings_count  \\\n",
       "0                NaN                 52.0                       52.0   \n",
       "\n",
       "  neighbourhood neighbourhood_cleansed  ...  instant_bookable  \\\n",
       "0           NaN            Mission Bay  ...                 t   \n",
       "\n",
       "   calculated_host_listings_count calculated_host_listings_count_entire_homes  \\\n",
       "0                              30                                          30   \n",
       "\n",
       "  calculated_host_listings_count_private_rooms  \\\n",
       "0                                            0   \n",
       "\n",
       "   calculated_host_listings_count_shared_rooms  reviews_per_month  zipcode  \\\n",
       "0                                            0               3.77    92109   \n",
       "\n",
       "   median_income_dollars property_type_binary  private  \n",
       "0                95170.0                house        1  \n",
       "\n",
       "[1 rows x 57 columns]"
      ]
     },
     "execution_count": 3,
     "metadata": {},
     "output_type": "execute_result"
    }
   ],
   "source": [
    "# Import data from last notebook\n",
    "eda_df = pd.read_csv(\"../Data/eda.csv.gz\", compression = \"gzip\")\n",
    "eda_df.head(1)"
   ]
  },
  {
   "cell_type": "markdown",
   "metadata": {},
   "source": [
    "## Sentiment Based Feature Creation\n",
    "In order to capture the sentiment from our text-based variables, we will use transfer learning with a pre-trained model.\n",
    "\n",
    "First we'll combine all of our text-based columns into one."
   ]
  },
  {
   "cell_type": "code",
   "execution_count": 16,
   "metadata": {},
   "outputs": [],
   "source": [
    "# In order to combine, we need to fill any NAs with blank strings\n",
    "eda_df[['name', 'description', 'neighborhood_overview']] = eda_df[['name', 'description', 'neighborhood_overview']].fillna('')\n",
    "\n",
    "# Combine\n",
    "eda_df['text'] = eda_df['name'] + eda_df['description']\n",
    "eda_df['text'] = eda_df['text'] + eda_df['neighborhood_overview']\n",
    "\n",
    "# Our model can only handle less than 512 tokens so we'll truncate down\n",
    "eda_df['text_trunc'] = eda_df['text'].str.slice(0, 511)\n",
    "\n",
    "# How many observations were affected - Looks like none, but still got an error - could be due to different tokenzations\n",
    "eda_df['word_counts'] = eda_df['text'].apply(lambda n : len(n.split())) \n",
    "len(eda_df[eda_df['word_counts'] < 511])\n",
    "\n",
    "# Save our observations as a list\n",
    "corpus = eda_df['text_trunc'].to_list()\n"
   ]
  },
  {
   "cell_type": "code",
   "execution_count": null,
   "metadata": {},
   "outputs": [],
   "source": [
    "# Load our model\n",
    "sent_clf = pipeline('sentiment-analysis')\n",
    "\n",
    "preds = []\n",
    "for i in corpus:\n",
    "    try:\n",
    "        pred = sent_clf(i)\n",
    "        preds.append(pred)\n",
    "    except:\n",
    "        preds.append(np.nan)\n"
   ]
  },
  {
   "cell_type": "code",
   "execution_count": 30,
   "metadata": {},
   "outputs": [],
   "source": [
    "# Un-nest the list\n",
    "import operator \n",
    "from functools import reduce\n",
    "\n",
    "preds2 = reduce(operator.add, preds)\n",
    "\n",
    "# Create probability of positive as our variable\n",
    "probs = [x['score'] if x['label'].startswith('P') else 1 - x['score'] for x in preds2]\n",
    "\n",
    "# Save as variable in our df\n",
    "eda_df['sentiment'] = probs"
   ]
  },
  {
   "cell_type": "code",
   "execution_count": 31,
   "metadata": {},
   "outputs": [],
   "source": [
    "# Write new df so we don't need to rerun model everytime\n",
    "eda_df.to_csv(\"../Data/sentiment.csv.gz\", compression= \"gzip\", index=False)"
   ]
  },
  {
   "cell_type": "markdown",
   "metadata": {},
   "source": [
    "## Feature Removal"
   ]
  },
  {
   "cell_type": "code",
   "execution_count": 13,
   "metadata": {},
   "outputs": [
    {
     "data": {
      "text/html": [
       "<div>\n",
       "<style scoped>\n",
       "    .dataframe tbody tr th:only-of-type {\n",
       "        vertical-align: middle;\n",
       "    }\n",
       "\n",
       "    .dataframe tbody tr th {\n",
       "        vertical-align: top;\n",
       "    }\n",
       "\n",
       "    .dataframe thead th {\n",
       "        text-align: right;\n",
       "    }\n",
       "</style>\n",
       "<table border=\"1\" class=\"dataframe\">\n",
       "  <thead>\n",
       "    <tr style=\"text-align: right;\">\n",
       "      <th></th>\n",
       "      <th>id</th>\n",
       "      <th>last_scraped</th>\n",
       "      <th>name</th>\n",
       "      <th>description</th>\n",
       "      <th>neighborhood_overview</th>\n",
       "      <th>host_neighbourhood</th>\n",
       "      <th>host_listings_count</th>\n",
       "      <th>host_total_listings_count</th>\n",
       "      <th>neighbourhood</th>\n",
       "      <th>neighbourhood_cleansed</th>\n",
       "      <th>...</th>\n",
       "      <th>calculated_host_listings_count_shared_rooms</th>\n",
       "      <th>reviews_per_month</th>\n",
       "      <th>zipcode</th>\n",
       "      <th>median_income_dollars</th>\n",
       "      <th>property_type_binary</th>\n",
       "      <th>private</th>\n",
       "      <th>text</th>\n",
       "      <th>text_trunc</th>\n",
       "      <th>word_counts</th>\n",
       "      <th>sentiment</th>\n",
       "    </tr>\n",
       "  </thead>\n",
       "  <tbody>\n",
       "    <tr>\n",
       "      <th>0</th>\n",
       "      <td>52582829</td>\n",
       "      <td>2022-06-15</td>\n",
       "      <td>Huge Oceanview decks+RooftopDeck☀sleeps 10☀Gar...</td>\n",
       "      <td>10 steps from the boardwalk! Beautiful beach h...</td>\n",
       "      <td>NaN</td>\n",
       "      <td>NaN</td>\n",
       "      <td>52.0</td>\n",
       "      <td>52.0</td>\n",
       "      <td>NaN</td>\n",
       "      <td>Mission Bay</td>\n",
       "      <td>...</td>\n",
       "      <td>0</td>\n",
       "      <td>3.77</td>\n",
       "      <td>92109</td>\n",
       "      <td>95170.0</td>\n",
       "      <td>house</td>\n",
       "      <td>1</td>\n",
       "      <td>Huge Oceanview decks+RooftopDeck☀sleeps 10☀Gar...</td>\n",
       "      <td>Huge Oceanview decks+RooftopDeck☀sleeps 10☀Gar...</td>\n",
       "      <td>171</td>\n",
       "      <td>0.900577</td>\n",
       "    </tr>\n",
       "  </tbody>\n",
       "</table>\n",
       "<p>1 rows × 61 columns</p>\n",
       "</div>"
      ],
      "text/plain": [
       "         id last_scraped                                               name   \n",
       "0  52582829   2022-06-15  Huge Oceanview decks+RooftopDeck☀sleeps 10☀Gar...  \\\n",
       "\n",
       "                                         description neighborhood_overview   \n",
       "0  10 steps from the boardwalk! Beautiful beach h...                   NaN  \\\n",
       "\n",
       "  host_neighbourhood  host_listings_count  host_total_listings_count   \n",
       "0                NaN                 52.0                       52.0  \\\n",
       "\n",
       "  neighbourhood neighbourhood_cleansed  ...   \n",
       "0           NaN            Mission Bay  ...  \\\n",
       "\n",
       "   calculated_host_listings_count_shared_rooms  reviews_per_month zipcode   \n",
       "0                                            0               3.77   92109  \\\n",
       "\n",
       "  median_income_dollars  property_type_binary  private   \n",
       "0               95170.0                 house        1  \\\n",
       "\n",
       "                                                text   \n",
       "0  Huge Oceanview decks+RooftopDeck☀sleeps 10☀Gar...  \\\n",
       "\n",
       "                                          text_trunc word_counts  sentiment  \n",
       "0  Huge Oceanview decks+RooftopDeck☀sleeps 10☀Gar...         171   0.900577  \n",
       "\n",
       "[1 rows x 61 columns]"
      ]
     },
     "execution_count": 13,
     "metadata": {},
     "output_type": "execute_result"
    }
   ],
   "source": [
    "# Read back in the data with sentiments\n",
    "sent_df = pd.read_csv(\"../Data/sentiment.csv.gz\", compression = \"gzip\")\n",
    "sent_df.head(1)"
   ]
  },
  {
   "cell_type": "markdown",
   "metadata": {},
   "source": [
    "There are columns that we don't need, such as id, last scraped ,the text columns, and those from other findings in the EDA. We'll remove them here and keep the reasons separated for easier understanding and possible future adjustments.\n",
    "\n",
    "EDA Findings:\n",
    "1. host_listings_count and host_total_listings_count are the same\n",
    "2. 24 feature pairs had correlations above 0.75 - we removed one feature from each of these pairs. Some showed up multiple times (high correlation with multiple features), so 24 drops may not show up.\n",
    "3. Longitude and latitude were the only features with very low variance. This could be likely be fixed by scaling. But since we have zipcodes representing neighborhoods, we will remove them.\n",
    "4. License was revealed to be missing 14,007 values from the 18,000 records. With such a high number of missing values, it would not be feasible or practical to impute or fill the missing values.\n",
    "\n",
    "# NOTE Questionable\n",
    "calendar_last_scraped, first_review, last_review could be included. Perhaps we could do a days since.. with one of them. However, it depends if we want to include time components."
   ]
  },
  {
   "cell_type": "code",
   "execution_count": 14,
   "metadata": {},
   "outputs": [],
   "source": [
    "# Remove uneeded columns\n",
    "sent_df = sent_df.drop(columns = [\n",
    "    'id', 'last_scraped', 'host_neighbourhood', 'neighbourhood', 'neighbourhood_cleansed',\n",
    "    'property_type', 'amenities', 'license', 'calendar_last_scraped', 'first_review', 'last_review']\n",
    "    )\n",
    "\n",
    "# Remove the text columns\n",
    "sent_df = sent_df.drop(columns = [\n",
    "    'name', 'description', 'neighborhood_overview',\n",
    "    'text', 'text_trunc', 'word_counts']\n",
    "    )\n",
    "\n",
    "# Remove host_total_listings_count\n",
    "sent_df = sent_df.drop(columns=['host_total_listings_count'])\n",
    "\n",
    "# Remove highly correlated features\n",
    "sent_df = sent_df.drop(columns = [\n",
    "    'minimum_nights_avg_ntm', 'calculated_host_listings_count_entire_homes',\n",
    "    'availability_90', 'maximum_nights_avg_ntm', 'availability_60', 'minimum_nights_avg_ntm',\n",
    "    'review_scores_accuracy', 'maximum_minimum_nights', 'review_scores_value', 'beds',\n",
    "    'review_scores_cleanliness', 'accommodates', 'review_scores_communication',\n",
    "    'number_of_reviews_ltm', 'minimum_maximum_nights', 'number_of_reviews_l30d']\n",
    "    )\n",
    "\n",
    "# Remove low variance features\n",
    "sent_df = sent_df.drop(columns=['longitude', 'latitude'])\n"
   ]
  },
  {
   "cell_type": "markdown",
   "metadata": {},
   "source": [
    "## Data Types\n",
    "Let's make sure all the columns are the correct data type "
   ]
  },
  {
   "cell_type": "code",
   "execution_count": 17,
   "metadata": {},
   "outputs": [
    {
     "data": {
      "text/plain": [
       "host_listings_count                             float64\n",
       "room_type                                        object\n",
       "bathrooms                                       float64\n",
       "bedrooms                                        float64\n",
       "price                                           float64\n",
       "minimum_nights                                    int64\n",
       "maximum_nights                                    int64\n",
       "minimum_minimum_nights                          float64\n",
       "maximum_maximum_nights                          float64\n",
       "has_availability                                 object\n",
       "availability_30                                   int64\n",
       "availability_365                                  int64\n",
       "number_of_reviews                                 int64\n",
       "review_scores_rating                            float64\n",
       "review_scores_checkin                           float64\n",
       "review_scores_location                          float64\n",
       "instant_bookable                                 object\n",
       "calculated_host_listings_count                    int64\n",
       "calculated_host_listings_count_private_rooms      int64\n",
       "calculated_host_listings_count_shared_rooms       int64\n",
       "reviews_per_month                               float64\n",
       "zipcode                                           int64\n",
       "median_income_dollars                           float64\n",
       "property_type_binary                             object\n",
       "private                                           int64\n",
       "sentiment                                       float64\n",
       "dtype: object"
      ]
     },
     "execution_count": 17,
     "metadata": {},
     "output_type": "execute_result"
    }
   ],
   "source": [
    "sent_df.dtypes"
   ]
  },
  {
   "cell_type": "code",
   "execution_count": 18,
   "metadata": {},
   "outputs": [],
   "source": [
    "# Read out clean df\n",
    "sent_df.to_csv(\"../Data/clean_df.csv.gz\", compression= \"gzip\", index=False)"
   ]
  }
 ],
 "metadata": {
  "kernelspec": {
   "display_name": "base",
   "language": "python",
   "name": "python3"
  },
  "language_info": {
   "codemirror_mode": {
    "name": "ipython",
    "version": 3
   },
   "file_extension": ".py",
   "mimetype": "text/x-python",
   "name": "python",
   "nbconvert_exporter": "python",
   "pygments_lexer": "ipython3",
   "version": "3.11.1"
  },
  "orig_nbformat": 4
 },
 "nbformat": 4,
 "nbformat_minor": 2
}
