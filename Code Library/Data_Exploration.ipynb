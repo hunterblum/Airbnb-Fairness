{
 "cells": [
  {
   "attachments": {},
   "cell_type": "markdown",
   "metadata": {},
   "source": [
    "# Data Exploration Notebook\n",
    "\n",
    "_For USD-599 Capstone Project by Hunter Blum, Kyle Esteban Dalope, and Nicholas Lee (Summer 2023)_\n",
    "\n",
    "***\n",
    "\n",
    "**Content Overview:**\n",
    "1. Table Features\n",
    "> Examining the dimension and features of each quarterly data scrape alone and when joined together.\n",
    "\n",
    "> Mergining the quarterly data, Dropping duplicates (keeping only most recent values), and re-examining table features and dimensions.\n",
    "\n",
    "2. Removal of Extraneous Variables\n",
    "> Dropping variables not needed for EDA, based on domain knowledge.\n",
    "\n",
    "3. Missing Value Evaluation and Handling\n",
    "\n",
    "    3a. Handing Missing Values for the field _bathrooms_\n",
    "\n",
    "4. EDA by Property Type\n",
    "\n",
    "5. EDA on Zip Code and Median Income Features"
   ]
  },
  {
   "cell_type": "code",
   "execution_count": 2,
   "metadata": {},
   "outputs": [],
   "source": [
    "# Library Imports\n",
    "import numpy as np\n",
    "import matplotlib.pyplot as plt\n",
    "import pandas as pd\n",
    "import re\n",
    "import seaborn as sns\n",
    "\n",
    "from uszipcode import SearchEngine, SimpleZipcode, ComprehensiveZipcode\n",
    "\n",
    "# Disable Warnings\n",
    "import warnings\n",
    "warnings.filterwarnings(\"ignore\")"
   ]
  },
  {
   "cell_type": "code",
   "execution_count": 3,
   "metadata": {},
   "outputs": [
    {
     "data": {
      "text/plain": [
       "'\\npd.set_option(\"display.max_colwidth\", None)\\npd.set_option(\"display.max_columns\", None)  \\npd.set_option(\"display.max_rows\", None)\\n'"
      ]
     },
     "execution_count": 3,
     "metadata": {},
     "output_type": "execute_result"
    }
   ],
   "source": [
    "# Set Output Display Options\n",
    "'''\n",
    "pd.set_option(\"display.max_colwidth\", None)\n",
    "pd.set_option(\"display.max_columns\", None)  \n",
    "pd.set_option(\"display.max_rows\", None)\n",
    "'''"
   ]
  },
  {
   "cell_type": "code",
   "execution_count": 4,
   "metadata": {},
   "outputs": [
    {
     "data": {
      "text/html": [
       "<div>\n",
       "<style scoped>\n",
       "    .dataframe tbody tr th:only-of-type {\n",
       "        vertical-align: middle;\n",
       "    }\n",
       "\n",
       "    .dataframe tbody tr th {\n",
       "        vertical-align: top;\n",
       "    }\n",
       "\n",
       "    .dataframe thead th {\n",
       "        text-align: right;\n",
       "    }\n",
       "</style>\n",
       "<table border=\"1\" class=\"dataframe\">\n",
       "  <thead>\n",
       "    <tr style=\"text-align: right;\">\n",
       "      <th></th>\n",
       "      <th>id</th>\n",
       "      <th>listing_url</th>\n",
       "      <th>scrape_id</th>\n",
       "      <th>last_scraped</th>\n",
       "      <th>name</th>\n",
       "      <th>description</th>\n",
       "      <th>neighborhood_overview</th>\n",
       "      <th>picture_url</th>\n",
       "      <th>host_id</th>\n",
       "      <th>host_url</th>\n",
       "      <th>...</th>\n",
       "      <th>review_scores_communication</th>\n",
       "      <th>review_scores_location</th>\n",
       "      <th>review_scores_value</th>\n",
       "      <th>license</th>\n",
       "      <th>instant_bookable</th>\n",
       "      <th>calculated_host_listings_count</th>\n",
       "      <th>calculated_host_listings_count_entire_homes</th>\n",
       "      <th>calculated_host_listings_count_private_rooms</th>\n",
       "      <th>calculated_host_listings_count_shared_rooms</th>\n",
       "      <th>reviews_per_month</th>\n",
       "    </tr>\n",
       "  </thead>\n",
       "  <tbody>\n",
       "    <tr>\n",
       "      <th>0</th>\n",
       "      <td>53661776</td>\n",
       "      <td>https://www.airbnb.com/rooms/53661776</td>\n",
       "      <td>20220615002624</td>\n",
       "      <td>2022-06-15</td>\n",
       "      <td>2 bedrooms/ 1 bath - Upstairs - Near Lake Hodges</td>\n",
       "      <td>This listing consists of 2 bedrooms and 1 bath...</td>\n",
       "      <td>The neighborhood is very quiet and peaceful.</td>\n",
       "      <td>https://a0.muscache.com/pictures/miso/Hosting-...</td>\n",
       "      <td>62320777</td>\n",
       "      <td>https://www.airbnb.com/users/show/62320777</td>\n",
       "      <td>...</td>\n",
       "      <td>NaN</td>\n",
       "      <td>NaN</td>\n",
       "      <td>NaN</td>\n",
       "      <td>NaN</td>\n",
       "      <td>f</td>\n",
       "      <td>7</td>\n",
       "      <td>2</td>\n",
       "      <td>5</td>\n",
       "      <td>0</td>\n",
       "      <td>NaN</td>\n",
       "    </tr>\n",
       "    <tr>\n",
       "      <th>1</th>\n",
       "      <td>599610579640991142</td>\n",
       "      <td>https://www.airbnb.com/rooms/599610579640991142</td>\n",
       "      <td>20220615002624</td>\n",
       "      <td>2022-06-15</td>\n",
       "      <td>RelaxingSunset View PrivateBalcony for SIX guests</td>\n",
       "      <td>Stylishly appointed, 1,313 Square foot sunset ...</td>\n",
       "      <td>NaN</td>\n",
       "      <td>https://a0.muscache.com/pictures/miso/Hosting-...</td>\n",
       "      <td>414789390</td>\n",
       "      <td>https://www.airbnb.com/users/show/414789390</td>\n",
       "      <td>...</td>\n",
       "      <td>5.00</td>\n",
       "      <td>5.00</td>\n",
       "      <td>5.00</td>\n",
       "      <td>NaN</td>\n",
       "      <td>t</td>\n",
       "      <td>2</td>\n",
       "      <td>2</td>\n",
       "      <td>0</td>\n",
       "      <td>0</td>\n",
       "      <td>0.64</td>\n",
       "    </tr>\n",
       "    <tr>\n",
       "      <th>2</th>\n",
       "      <td>52088878</td>\n",
       "      <td>https://www.airbnb.com/rooms/52088878</td>\n",
       "      <td>20220615002624</td>\n",
       "      <td>2022-06-15</td>\n",
       "      <td>Cozy independent room next to Lake Murray</td>\n",
       "      <td>Spacious private room in a quiet residential a...</td>\n",
       "      <td>NaN</td>\n",
       "      <td>https://a0.muscache.com/pictures/miso/Hosting-...</td>\n",
       "      <td>100368579</td>\n",
       "      <td>https://www.airbnb.com/users/show/100368579</td>\n",
       "      <td>...</td>\n",
       "      <td>4.86</td>\n",
       "      <td>4.86</td>\n",
       "      <td>4.71</td>\n",
       "      <td>NaN</td>\n",
       "      <td>f</td>\n",
       "      <td>1</td>\n",
       "      <td>0</td>\n",
       "      <td>1</td>\n",
       "      <td>0</td>\n",
       "      <td>3.62</td>\n",
       "    </tr>\n",
       "    <tr>\n",
       "      <th>3</th>\n",
       "      <td>628640985640584632</td>\n",
       "      <td>https://www.airbnb.com/rooms/628640985640584632</td>\n",
       "      <td>20220615002624</td>\n",
       "      <td>2022-06-15</td>\n",
       "      <td>Bright freshly renovated apartment w/ kitchenette</td>\n",
       "      <td>This unique place has a style all its own read...</td>\n",
       "      <td>NaN</td>\n",
       "      <td>https://a0.muscache.com/pictures/miso/Hosting-...</td>\n",
       "      <td>95926933</td>\n",
       "      <td>https://www.airbnb.com/users/show/95926933</td>\n",
       "      <td>...</td>\n",
       "      <td>NaN</td>\n",
       "      <td>NaN</td>\n",
       "      <td>NaN</td>\n",
       "      <td>NaN</td>\n",
       "      <td>t</td>\n",
       "      <td>11</td>\n",
       "      <td>11</td>\n",
       "      <td>0</td>\n",
       "      <td>0</td>\n",
       "      <td>NaN</td>\n",
       "    </tr>\n",
       "    <tr>\n",
       "      <th>4</th>\n",
       "      <td>19621314</td>\n",
       "      <td>https://www.airbnb.com/rooms/19621314</td>\n",
       "      <td>20220615002624</td>\n",
       "      <td>2022-06-15</td>\n",
       "      <td>Huge Royal Luxury En Suite (Bath, WC &amp; Balcony)</td>\n",
       "      <td>Royal Feeling-Resort style, private gate, Soot...</td>\n",
       "      <td>Very quiet neighbors and country side living y...</td>\n",
       "      <td>https://a0.muscache.com/pictures/e1811785-3d44...</td>\n",
       "      <td>46170232</td>\n",
       "      <td>https://www.airbnb.com/users/show/46170232</td>\n",
       "      <td>...</td>\n",
       "      <td>4.99</td>\n",
       "      <td>4.93</td>\n",
       "      <td>5.00</td>\n",
       "      <td>NaN</td>\n",
       "      <td>f</td>\n",
       "      <td>5</td>\n",
       "      <td>0</td>\n",
       "      <td>5</td>\n",
       "      <td>0</td>\n",
       "      <td>2.45</td>\n",
       "    </tr>\n",
       "  </tbody>\n",
       "</table>\n",
       "<p>5 rows × 74 columns</p>\n",
       "</div>"
      ],
      "text/plain": [
       "                   id                                      listing_url  \\\n",
       "0            53661776            https://www.airbnb.com/rooms/53661776   \n",
       "1  599610579640991142  https://www.airbnb.com/rooms/599610579640991142   \n",
       "2            52088878            https://www.airbnb.com/rooms/52088878   \n",
       "3  628640985640584632  https://www.airbnb.com/rooms/628640985640584632   \n",
       "4            19621314            https://www.airbnb.com/rooms/19621314   \n",
       "\n",
       "        scrape_id last_scraped  \\\n",
       "0  20220615002624   2022-06-15   \n",
       "1  20220615002624   2022-06-15   \n",
       "2  20220615002624   2022-06-15   \n",
       "3  20220615002624   2022-06-15   \n",
       "4  20220615002624   2022-06-15   \n",
       "\n",
       "                                                name  \\\n",
       "0   2 bedrooms/ 1 bath - Upstairs - Near Lake Hodges   \n",
       "1  RelaxingSunset View PrivateBalcony for SIX guests   \n",
       "2          Cozy independent room next to Lake Murray   \n",
       "3  Bright freshly renovated apartment w/ kitchenette   \n",
       "4    Huge Royal Luxury En Suite (Bath, WC & Balcony)   \n",
       "\n",
       "                                         description  \\\n",
       "0  This listing consists of 2 bedrooms and 1 bath...   \n",
       "1  Stylishly appointed, 1,313 Square foot sunset ...   \n",
       "2  Spacious private room in a quiet residential a...   \n",
       "3  This unique place has a style all its own read...   \n",
       "4  Royal Feeling-Resort style, private gate, Soot...   \n",
       "\n",
       "                               neighborhood_overview  \\\n",
       "0       The neighborhood is very quiet and peaceful.   \n",
       "1                                                NaN   \n",
       "2                                                NaN   \n",
       "3                                                NaN   \n",
       "4  Very quiet neighbors and country side living y...   \n",
       "\n",
       "                                         picture_url    host_id  \\\n",
       "0  https://a0.muscache.com/pictures/miso/Hosting-...   62320777   \n",
       "1  https://a0.muscache.com/pictures/miso/Hosting-...  414789390   \n",
       "2  https://a0.muscache.com/pictures/miso/Hosting-...  100368579   \n",
       "3  https://a0.muscache.com/pictures/miso/Hosting-...   95926933   \n",
       "4  https://a0.muscache.com/pictures/e1811785-3d44...   46170232   \n",
       "\n",
       "                                      host_url  ...  \\\n",
       "0   https://www.airbnb.com/users/show/62320777  ...   \n",
       "1  https://www.airbnb.com/users/show/414789390  ...   \n",
       "2  https://www.airbnb.com/users/show/100368579  ...   \n",
       "3   https://www.airbnb.com/users/show/95926933  ...   \n",
       "4   https://www.airbnb.com/users/show/46170232  ...   \n",
       "\n",
       "  review_scores_communication review_scores_location review_scores_value  \\\n",
       "0                         NaN                    NaN                 NaN   \n",
       "1                        5.00                   5.00                5.00   \n",
       "2                        4.86                   4.86                4.71   \n",
       "3                         NaN                    NaN                 NaN   \n",
       "4                        4.99                   4.93                5.00   \n",
       "\n",
       "  license instant_bookable calculated_host_listings_count  \\\n",
       "0     NaN                f                              7   \n",
       "1     NaN                t                              2   \n",
       "2     NaN                f                              1   \n",
       "3     NaN                t                             11   \n",
       "4     NaN                f                              5   \n",
       "\n",
       "  calculated_host_listings_count_entire_homes  \\\n",
       "0                                           2   \n",
       "1                                           2   \n",
       "2                                           0   \n",
       "3                                          11   \n",
       "4                                           0   \n",
       "\n",
       "  calculated_host_listings_count_private_rooms  \\\n",
       "0                                            5   \n",
       "1                                            0   \n",
       "2                                            1   \n",
       "3                                            0   \n",
       "4                                            5   \n",
       "\n",
       "  calculated_host_listings_count_shared_rooms reviews_per_month  \n",
       "0                                           0               NaN  \n",
       "1                                           0              0.64  \n",
       "2                                           0              3.62  \n",
       "3                                           0               NaN  \n",
       "4                                           0              2.45  \n",
       "\n",
       "[5 rows x 74 columns]"
      ]
     },
     "execution_count": 4,
     "metadata": {},
     "output_type": "execute_result"
    }
   ],
   "source": [
    "# Read in listings tables\n",
    "june2022_listings_df = pd.read_csv(\"../Data/2022_06_june_listings.csv.gz\", compression = \"gzip\")\n",
    "sept2022_listings_df = pd.read_csv(\"../Data/2022_09_sept_listings.csv.gz\", compression = \"gzip\")\n",
    "dec2022_listings_df = pd.read_csv(\"../Data/2022_12_dec_listings.csv.gz\", compression = \"gzip\")\n",
    "mar2023_listings_df = pd.read_csv(\"../Data/2023_03_mar_listings.csv.gz\", compression = \"gzip\")\n",
    "\n",
    "# Sample Table\n",
    "june2022_listings_df.head(5)"
   ]
  },
  {
   "attachments": {},
   "cell_type": "markdown",
   "metadata": {},
   "source": [
    "## Table Features\n",
    "Exploration of table shapes and features"
   ]
  },
  {
   "cell_type": "code",
   "execution_count": 5,
   "metadata": {},
   "outputs": [
    {
     "name": "stdout",
     "output_type": "stream",
     "text": [
      "Table Dimensions for June 2022 Listings: \n",
      "There are 13272 rows and 74 columns\n",
      "\n",
      "Table Dimensions for Sept. 2022 Listings: \n",
      "There are 14188 rows and 75 columns\n",
      "\n",
      "Table Dimensions for Dec. 2022 Listings: \n",
      "There are 12781 rows and 75 columns\n",
      "\n",
      "Table Dimensions for Mar. 2022 Listings: \n",
      "There are 12871 rows and 75 columns\n"
     ]
    }
   ],
   "source": [
    "# Individual Table Dimensions\n",
    "def table_dim(df_shape):\n",
    "    print(\"There are {} rows and {} columns\".format(df_shape[0], df_shape[1]))\n",
    "\n",
    "print(\"Table Dimensions for June 2022 Listings: \")\n",
    "table_dim(june2022_listings_df.shape)\n",
    "print(\"\\nTable Dimensions for Sept. 2022 Listings: \")\n",
    "table_dim(sept2022_listings_df.shape)\n",
    "print(\"\\nTable Dimensions for Dec. 2022 Listings: \")\n",
    "table_dim(dec2022_listings_df.shape)\n",
    "print(\"\\nTable Dimensions for Mar. 2022 Listings: \")\n",
    "table_dim(mar2023_listings_df.shape)"
   ]
  },
  {
   "attachments": {},
   "cell_type": "markdown",
   "metadata": {},
   "source": [
    "The above inspection of listing dimensions reveals that after June 2022, a new, 75th column was added to the data collected."
   ]
  },
  {
   "cell_type": "code",
   "execution_count": 6,
   "metadata": {},
   "outputs": [
    {
     "name": "stdout",
     "output_type": "stream",
     "text": [
      "Index(['source'], dtype='object')\n",
      "Index([], dtype='object')\n",
      "Index([], dtype='object')\n"
     ]
    }
   ],
   "source": [
    "# Get column names from each table\n",
    "june_col = june2022_listings_df.columns\n",
    "sept_col = sept2022_listings_df.columns\n",
    "dec_col = dec2022_listings_df.columns\n",
    "mar_col = mar2023_listings_df.columns\n",
    "\n",
    "\n",
    "print(sept_col.difference(june_col))\n",
    "print(sept_col.difference(dec_col))\n",
    "print(sept_col.difference(mar_col))"
   ]
  },
  {
   "attachments": {},
   "cell_type": "markdown",
   "metadata": {},
   "source": [
    "The new column added after June 2022, was called \"source.\""
   ]
  },
  {
   "cell_type": "code",
   "execution_count": 7,
   "metadata": {},
   "outputs": [
    {
     "data": {
      "text/plain": [
       "count           14188\n",
       "unique              2\n",
       "top       city scrape\n",
       "freq            12956\n",
       "Name: source, dtype: object"
      ]
     },
     "execution_count": 7,
     "metadata": {},
     "output_type": "execute_result"
    }
   ],
   "source": [
    "sept2022_listings_df[\"source\"].describe()"
   ]
  },
  {
   "cell_type": "code",
   "execution_count": 8,
   "metadata": {},
   "outputs": [
    {
     "data": {
      "text/plain": [
       "count           12781\n",
       "unique              2\n",
       "top       city scrape\n",
       "freq            11589\n",
       "Name: source, dtype: object"
      ]
     },
     "execution_count": 8,
     "metadata": {},
     "output_type": "execute_result"
    }
   ],
   "source": [
    "dec2022_listings_df[\"source\"].describe()"
   ]
  },
  {
   "cell_type": "code",
   "execution_count": 9,
   "metadata": {},
   "outputs": [
    {
     "data": {
      "text/plain": [
       "count           12871\n",
       "unique              2\n",
       "top       city scrape\n",
       "freq            11644\n",
       "Name: source, dtype: object"
      ]
     },
     "execution_count": 9,
     "metadata": {},
     "output_type": "execute_result"
    }
   ],
   "source": [
    "mar2023_listings_df[\"source\"].describe()"
   ]
  },
  {
   "attachments": {},
   "cell_type": "markdown",
   "metadata": {},
   "source": [
    "Within the _source_ column, there are two unique values, where one value dominates the majority of records (e.g. in records for the quarter up until March 2023, the predominant source value occupied 11,644 of 12,871 records). In planning for future machine learning applications, such a column would not be greatly informative. Therefore, it can be removed, and the tables may be joined along the unique house id."
   ]
  },
  {
   "attachments": {},
   "cell_type": "markdown",
   "metadata": {},
   "source": [
    "### Dropping \"source\" column"
   ]
  },
  {
   "cell_type": "code",
   "execution_count": 10,
   "metadata": {},
   "outputs": [],
   "source": [
    "# Removing the source column\n",
    "sept2022_listings_df = sept2022_listings_df.drop(columns=\"source\", axis = 1)\n",
    "dec2022_listings_df = dec2022_listings_df.drop(columns = \"source\", axis = 1)\n",
    "mar2023_listings_df = mar2023_listings_df.drop(columns = \"source\", axis = 1)"
   ]
  },
  {
   "attachments": {},
   "cell_type": "markdown",
   "metadata": {},
   "source": [
    "## Combining all tables into one dataframe\n",
    "The four quarterly tables are concatenated to form one dataframe. Then, duplicates from the _id_ column are removed, keeping the last, most recent, up-to-date entry for each listing."
   ]
  },
  {
   "cell_type": "code",
   "execution_count": 11,
   "metadata": {},
   "outputs": [],
   "source": [
    "# Combine all four dataframes into one\n",
    "all_data = pd.concat([june2022_listings_df, sept2022_listings_df,\n",
    "                        dec2022_listings_df, mar2023_listings_df])"
   ]
  },
  {
   "cell_type": "code",
   "execution_count": 12,
   "metadata": {},
   "outputs": [],
   "source": [
    "# Convert last_scraped column to datetime data type\n",
    "all_data[\"last_scraped\"] = pd.to_datetime(all_data[\"last_scraped\"])"
   ]
  },
  {
   "cell_type": "code",
   "execution_count": 13,
   "metadata": {},
   "outputs": [],
   "source": [
    "# Sort by date and drop duplicates (keeping most recent entries)\n",
    "all_data_no_dupes = all_data.sort_values(\n",
    "    \"last_scraped\").drop_duplicates([\"id\"], keep = \"last\")"
   ]
  },
  {
   "attachments": {},
   "cell_type": "markdown",
   "metadata": {},
   "source": [
    "## Merged Dataframe Descriptive Statistics"
   ]
  },
  {
   "cell_type": "code",
   "execution_count": 14,
   "metadata": {},
   "outputs": [
    {
     "data": {
      "text/plain": [
       "(18627, 74)"
      ]
     },
     "execution_count": 14,
     "metadata": {},
     "output_type": "execute_result"
    }
   ],
   "source": [
    "# Check new dataframe dimensions\n",
    "all_data_no_dupes.shape"
   ]
  },
  {
   "attachments": {},
   "cell_type": "markdown",
   "metadata": {},
   "source": [
    "## Removing Extraneous Variables\n",
    "To ease the EDA process, extraneous variables, determined to be impertinent to price determination, were removed using domain knowledge."
   ]
  },
  {
   "attachments": {},
   "cell_type": "markdown",
   "metadata": {},
   "source": [
    "#### **Remove chart below after deciding which column to drop"
   ]
  },
  {
   "cell_type": "code",
   "execution_count": 15,
   "metadata": {},
   "outputs": [
    {
     "data": {
      "text/plain": [
       "<AxesSubplot:ylabel='Frequency'>"
      ]
     },
     "execution_count": 15,
     "metadata": {},
     "output_type": "execute_result"
    },
    {
     "data": {
      "image/png": "[encoded data removed]",
      "text/plain": [
       "<Figure size 432x288 with 1 Axes>"
      ]
     },
     "metadata": {
      "needs_background": "light"
     },
     "output_type": "display_data"
    }
   ],
   "source": [
    "all_data_no_dupes[\"host_total_listings_count\"].plot.hist()\n",
    "all_data_no_dupes[\"host_listings_count\"].plot.hist()"
   ]
  },
  {
   "attachments": {},
   "cell_type": "markdown",
   "metadata": {},
   "source": [
    "**host_listings_count and host_total_listings_count appear to be the same"
   ]
  },
  {
   "cell_type": "code",
   "execution_count": 16,
   "metadata": {},
   "outputs": [],
   "source": [
    "# Drop one of the above variables in the chart\n",
    "eda_subset = all_data_no_dupes.drop(\n",
    "    columns = [\"scrape_id\", \"listing_url\", \"picture_url\", \"host_id\", \"host_url\", \n",
    "               \"host_name\", \"host_since\", \"host_location\", \"host_about\", \n",
    "               \"host_response_time\", \"host_response_rate\", \"host_acceptance_rate\", \n",
    "               \"host_is_superhost\", \"host_thumbnail_url\", \"host_picture_url\", \n",
    "               \"host_verifications\", \"host_has_profile_pic\", \"host_identity_verified\"\n",
    "               ], \n",
    "    axis = 1\n",
    ")"
   ]
  },
  {
   "cell_type": "code",
   "execution_count": 17,
   "metadata": {},
   "outputs": [
    {
     "data": {
      "text/html": [
       "<div>\n",
       "<style scoped>\n",
       "    .dataframe tbody tr th:only-of-type {\n",
       "        vertical-align: middle;\n",
       "    }\n",
       "\n",
       "    .dataframe tbody tr th {\n",
       "        vertical-align: top;\n",
       "    }\n",
       "\n",
       "    .dataframe thead th {\n",
       "        text-align: right;\n",
       "    }\n",
       "</style>\n",
       "<table border=\"1\" class=\"dataframe\">\n",
       "  <thead>\n",
       "    <tr style=\"text-align: right;\">\n",
       "      <th></th>\n",
       "      <th>count</th>\n",
       "      <th>mean</th>\n",
       "      <th>min</th>\n",
       "      <th>25%</th>\n",
       "      <th>50%</th>\n",
       "      <th>75%</th>\n",
       "      <th>max</th>\n",
       "      <th>std</th>\n",
       "    </tr>\n",
       "  </thead>\n",
       "  <tbody>\n",
       "    <tr>\n",
       "      <th>id</th>\n",
       "      <td>18627.0</td>\n",
       "      <td>244970506009365984.0</td>\n",
       "      <td>6.0</td>\n",
       "      <td>29943733.0</td>\n",
       "      <td>49818439.0</td>\n",
       "      <td>628769716496820864.0</td>\n",
       "      <td>853653678315646848.0</td>\n",
       "      <td>333476445445734720.0</td>\n",
       "    </tr>\n",
       "    <tr>\n",
       "      <th>last_scraped</th>\n",
       "      <td>18627</td>\n",
       "      <td>2023-01-27 14:34:06.706393856</td>\n",
       "      <td>2022-06-15 00:00:00</td>\n",
       "      <td>2022-12-24 00:00:00</td>\n",
       "      <td>2023-03-25 00:00:00</td>\n",
       "      <td>2023-03-25 00:00:00</td>\n",
       "      <td>2023-03-25 00:00:00</td>\n",
       "      <td>NaN</td>\n",
       "    </tr>\n",
       "    <tr>\n",
       "      <th>host_listings_count</th>\n",
       "      <td>18576.0</td>\n",
       "      <td>84.257321</td>\n",
       "      <td>0.0</td>\n",
       "      <td>1.0</td>\n",
       "      <td>4.0</td>\n",
       "      <td>20.0</td>\n",
       "      <td>4807.0</td>\n",
       "      <td>374.064936</td>\n",
       "    </tr>\n",
       "    <tr>\n",
       "      <th>host_total_listings_count</th>\n",
       "      <td>18576.0</td>\n",
       "      <td>121.971307</td>\n",
       "      <td>0.0</td>\n",
       "      <td>2.0</td>\n",
       "      <td>5.0</td>\n",
       "      <td>29.0</td>\n",
       "      <td>7816.0</td>\n",
       "      <td>525.94779</td>\n",
       "    </tr>\n",
       "    <tr>\n",
       "      <th>neighbourhood_group_cleansed</th>\n",
       "      <td>0.0</td>\n",
       "      <td>NaN</td>\n",
       "      <td>NaN</td>\n",
       "      <td>NaN</td>\n",
       "      <td>NaN</td>\n",
       "      <td>NaN</td>\n",
       "      <td>NaN</td>\n",
       "      <td>NaN</td>\n",
       "    </tr>\n",
       "    <tr>\n",
       "      <th>latitude</th>\n",
       "      <td>18627.0</td>\n",
       "      <td>32.763184</td>\n",
       "      <td>32.51986</td>\n",
       "      <td>32.718332</td>\n",
       "      <td>32.75485</td>\n",
       "      <td>32.798349</td>\n",
       "      <td>33.12569</td>\n",
       "      <td>0.092287</td>\n",
       "    </tr>\n",
       "    <tr>\n",
       "      <th>longitude</th>\n",
       "      <td>18627.0</td>\n",
       "      <td>-117.172498</td>\n",
       "      <td>-117.28258</td>\n",
       "      <td>-117.246039</td>\n",
       "      <td>-117.16462</td>\n",
       "      <td>-117.129225</td>\n",
       "      <td>-116.89656</td>\n",
       "      <td>0.073437</td>\n",
       "    </tr>\n",
       "    <tr>\n",
       "      <th>accommodates</th>\n",
       "      <td>18627.0</td>\n",
       "      <td>4.815483</td>\n",
       "      <td>0.0</td>\n",
       "      <td>2.0</td>\n",
       "      <td>4.0</td>\n",
       "      <td>6.0</td>\n",
       "      <td>16.0</td>\n",
       "      <td>3.168323</td>\n",
       "    </tr>\n",
       "    <tr>\n",
       "      <th>bathrooms</th>\n",
       "      <td>0.0</td>\n",
       "      <td>NaN</td>\n",
       "      <td>NaN</td>\n",
       "      <td>NaN</td>\n",
       "      <td>NaN</td>\n",
       "      <td>NaN</td>\n",
       "      <td>NaN</td>\n",
       "      <td>NaN</td>\n",
       "    </tr>\n",
       "    <tr>\n",
       "      <th>bedrooms</th>\n",
       "      <td>17089.0</td>\n",
       "      <td>1.985195</td>\n",
       "      <td>1.0</td>\n",
       "      <td>1.0</td>\n",
       "      <td>2.0</td>\n",
       "      <td>3.0</td>\n",
       "      <td>34.0</td>\n",
       "      <td>1.289118</td>\n",
       "    </tr>\n",
       "    <tr>\n",
       "      <th>beds</th>\n",
       "      <td>18411.0</td>\n",
       "      <td>2.666667</td>\n",
       "      <td>1.0</td>\n",
       "      <td>1.0</td>\n",
       "      <td>2.0</td>\n",
       "      <td>3.0</td>\n",
       "      <td>85.0</td>\n",
       "      <td>2.271751</td>\n",
       "    </tr>\n",
       "    <tr>\n",
       "      <th>minimum_nights</th>\n",
       "      <td>18627.0</td>\n",
       "      <td>7.447093</td>\n",
       "      <td>1.0</td>\n",
       "      <td>1.0</td>\n",
       "      <td>2.0</td>\n",
       "      <td>4.0</td>\n",
       "      <td>999.0</td>\n",
       "      <td>21.248847</td>\n",
       "    </tr>\n",
       "    <tr>\n",
       "      <th>maximum_nights</th>\n",
       "      <td>18627.0</td>\n",
       "      <td>486.574381</td>\n",
       "      <td>1.0</td>\n",
       "      <td>31.0</td>\n",
       "      <td>365.0</td>\n",
       "      <td>1125.0</td>\n",
       "      <td>1825.0</td>\n",
       "      <td>454.424281</td>\n",
       "    </tr>\n",
       "    <tr>\n",
       "      <th>minimum_minimum_nights</th>\n",
       "      <td>18625.0</td>\n",
       "      <td>8.153987</td>\n",
       "      <td>1.0</td>\n",
       "      <td>1.0</td>\n",
       "      <td>2.0</td>\n",
       "      <td>3.0</td>\n",
       "      <td>999.0</td>\n",
       "      <td>26.803797</td>\n",
       "    </tr>\n",
       "    <tr>\n",
       "      <th>maximum_minimum_nights</th>\n",
       "      <td>18625.0</td>\n",
       "      <td>10.727785</td>\n",
       "      <td>1.0</td>\n",
       "      <td>2.0</td>\n",
       "      <td>3.0</td>\n",
       "      <td>7.0</td>\n",
       "      <td>999.0</td>\n",
       "      <td>30.777284</td>\n",
       "    </tr>\n",
       "    <tr>\n",
       "      <th>minimum_maximum_nights</th>\n",
       "      <td>18625.0</td>\n",
       "      <td>807800.219597</td>\n",
       "      <td>1.0</td>\n",
       "      <td>150.0</td>\n",
       "      <td>1125.0</td>\n",
       "      <td>1125.0</td>\n",
       "      <td>2147483647.0</td>\n",
       "      <td>41625612.420085</td>\n",
       "    </tr>\n",
       "    <tr>\n",
       "      <th>maximum_maximum_nights</th>\n",
       "      <td>18625.0</td>\n",
       "      <td>1384346.601987</td>\n",
       "      <td>1.0</td>\n",
       "      <td>365.0</td>\n",
       "      <td>1125.0</td>\n",
       "      <td>1125.0</td>\n",
       "      <td>2147483647.0</td>\n",
       "      <td>54493400.117713</td>\n",
       "    </tr>\n",
       "    <tr>\n",
       "      <th>minimum_nights_avg_ntm</th>\n",
       "      <td>18625.0</td>\n",
       "      <td>9.648521</td>\n",
       "      <td>1.0</td>\n",
       "      <td>2.0</td>\n",
       "      <td>2.9</td>\n",
       "      <td>5.0</td>\n",
       "      <td>999.0</td>\n",
       "      <td>29.367258</td>\n",
       "    </tr>\n",
       "    <tr>\n",
       "      <th>maximum_nights_avg_ntm</th>\n",
       "      <td>18625.0</td>\n",
       "      <td>1202511.683431</td>\n",
       "      <td>1.0</td>\n",
       "      <td>365.0</td>\n",
       "      <td>1125.0</td>\n",
       "      <td>1125.0</td>\n",
       "      <td>2147483647.0</td>\n",
       "      <td>49142901.576047</td>\n",
       "    </tr>\n",
       "    <tr>\n",
       "      <th>calendar_updated</th>\n",
       "      <td>0.0</td>\n",
       "      <td>NaN</td>\n",
       "      <td>NaN</td>\n",
       "      <td>NaN</td>\n",
       "      <td>NaN</td>\n",
       "      <td>NaN</td>\n",
       "      <td>NaN</td>\n",
       "      <td>NaN</td>\n",
       "    </tr>\n",
       "    <tr>\n",
       "      <th>availability_30</th>\n",
       "      <td>18627.0</td>\n",
       "      <td>12.800558</td>\n",
       "      <td>0.0</td>\n",
       "      <td>1.0</td>\n",
       "      <td>11.0</td>\n",
       "      <td>23.0</td>\n",
       "      <td>30.0</td>\n",
       "      <td>10.876033</td>\n",
       "    </tr>\n",
       "    <tr>\n",
       "      <th>availability_60</th>\n",
       "      <td>18627.0</td>\n",
       "      <td>30.389864</td>\n",
       "      <td>0.0</td>\n",
       "      <td>9.0</td>\n",
       "      <td>32.0</td>\n",
       "      <td>51.0</td>\n",
       "      <td>60.0</td>\n",
       "      <td>21.541226</td>\n",
       "    </tr>\n",
       "    <tr>\n",
       "      <th>availability_90</th>\n",
       "      <td>18627.0</td>\n",
       "      <td>48.949321</td>\n",
       "      <td>0.0</td>\n",
       "      <td>19.0</td>\n",
       "      <td>54.0</td>\n",
       "      <td>79.0</td>\n",
       "      <td>90.0</td>\n",
       "      <td>31.988306</td>\n",
       "    </tr>\n",
       "    <tr>\n",
       "      <th>availability_365</th>\n",
       "      <td>18627.0</td>\n",
       "      <td>185.498899</td>\n",
       "      <td>0.0</td>\n",
       "      <td>68.0</td>\n",
       "      <td>177.0</td>\n",
       "      <td>316.0</td>\n",
       "      <td>365.0</td>\n",
       "      <td>128.525744</td>\n",
       "    </tr>\n",
       "    <tr>\n",
       "      <th>number_of_reviews</th>\n",
       "      <td>18627.0</td>\n",
       "      <td>48.618779</td>\n",
       "      <td>0.0</td>\n",
       "      <td>2.0</td>\n",
       "      <td>13.0</td>\n",
       "      <td>55.0</td>\n",
       "      <td>985.0</td>\n",
       "      <td>85.282258</td>\n",
       "    </tr>\n",
       "    <tr>\n",
       "      <th>number_of_reviews_ltm</th>\n",
       "      <td>18627.0</td>\n",
       "      <td>14.548236</td>\n",
       "      <td>0.0</td>\n",
       "      <td>1.0</td>\n",
       "      <td>6.0</td>\n",
       "      <td>22.0</td>\n",
       "      <td>186.0</td>\n",
       "      <td>19.551938</td>\n",
       "    </tr>\n",
       "    <tr>\n",
       "      <th>number_of_reviews_l30d</th>\n",
       "      <td>18627.0</td>\n",
       "      <td>1.069523</td>\n",
       "      <td>0.0</td>\n",
       "      <td>0.0</td>\n",
       "      <td>0.0</td>\n",
       "      <td>2.0</td>\n",
       "      <td>67.0</td>\n",
       "      <td>1.917707</td>\n",
       "    </tr>\n",
       "    <tr>\n",
       "      <th>review_scores_rating</th>\n",
       "      <td>15441.0</td>\n",
       "      <td>4.735208</td>\n",
       "      <td>0.0</td>\n",
       "      <td>4.67</td>\n",
       "      <td>4.85</td>\n",
       "      <td>4.98</td>\n",
       "      <td>5.0</td>\n",
       "      <td>0.431426</td>\n",
       "    </tr>\n",
       "    <tr>\n",
       "      <th>review_scores_accuracy</th>\n",
       "      <td>15415.0</td>\n",
       "      <td>4.780956</td>\n",
       "      <td>1.0</td>\n",
       "      <td>4.74</td>\n",
       "      <td>4.89</td>\n",
       "      <td>5.0</td>\n",
       "      <td>5.0</td>\n",
       "      <td>0.379737</td>\n",
       "    </tr>\n",
       "    <tr>\n",
       "      <th>review_scores_cleanliness</th>\n",
       "      <td>15415.0</td>\n",
       "      <td>4.745367</td>\n",
       "      <td>1.0</td>\n",
       "      <td>4.67</td>\n",
       "      <td>4.86</td>\n",
       "      <td>4.99</td>\n",
       "      <td>5.0</td>\n",
       "      <td>0.39143</td>\n",
       "    </tr>\n",
       "    <tr>\n",
       "      <th>review_scores_checkin</th>\n",
       "      <td>15413.0</td>\n",
       "      <td>4.842457</td>\n",
       "      <td>1.0</td>\n",
       "      <td>4.84</td>\n",
       "      <td>4.95</td>\n",
       "      <td>5.0</td>\n",
       "      <td>5.0</td>\n",
       "      <td>0.347829</td>\n",
       "    </tr>\n",
       "    <tr>\n",
       "      <th>review_scores_communication</th>\n",
       "      <td>15415.0</td>\n",
       "      <td>4.831073</td>\n",
       "      <td>1.0</td>\n",
       "      <td>4.82</td>\n",
       "      <td>4.95</td>\n",
       "      <td>5.0</td>\n",
       "      <td>5.0</td>\n",
       "      <td>0.364334</td>\n",
       "    </tr>\n",
       "    <tr>\n",
       "      <th>review_scores_location</th>\n",
       "      <td>15413.0</td>\n",
       "      <td>4.814729</td>\n",
       "      <td>1.0</td>\n",
       "      <td>4.78</td>\n",
       "      <td>4.91</td>\n",
       "      <td>5.0</td>\n",
       "      <td>5.0</td>\n",
       "      <td>0.323353</td>\n",
       "    </tr>\n",
       "    <tr>\n",
       "      <th>review_scores_value</th>\n",
       "      <td>15413.0</td>\n",
       "      <td>4.67671</td>\n",
       "      <td>1.0</td>\n",
       "      <td>4.59</td>\n",
       "      <td>4.78</td>\n",
       "      <td>4.91</td>\n",
       "      <td>5.0</td>\n",
       "      <td>0.40645</td>\n",
       "    </tr>\n",
       "    <tr>\n",
       "      <th>calculated_host_listings_count</th>\n",
       "      <td>18627.0</td>\n",
       "      <td>15.837709</td>\n",
       "      <td>1.0</td>\n",
       "      <td>1.0</td>\n",
       "      <td>3.0</td>\n",
       "      <td>14.0</td>\n",
       "      <td>216.0</td>\n",
       "      <td>30.835294</td>\n",
       "    </tr>\n",
       "    <tr>\n",
       "      <th>calculated_host_listings_count_entire_homes</th>\n",
       "      <td>18627.0</td>\n",
       "      <td>14.491813</td>\n",
       "      <td>0.0</td>\n",
       "      <td>1.0</td>\n",
       "      <td>2.0</td>\n",
       "      <td>11.0</td>\n",
       "      <td>216.0</td>\n",
       "      <td>30.479628</td>\n",
       "    </tr>\n",
       "    <tr>\n",
       "      <th>calculated_host_listings_count_private_rooms</th>\n",
       "      <td>18627.0</td>\n",
       "      <td>1.293552</td>\n",
       "      <td>0.0</td>\n",
       "      <td>0.0</td>\n",
       "      <td>0.0</td>\n",
       "      <td>0.0</td>\n",
       "      <td>85.0</td>\n",
       "      <td>7.25652</td>\n",
       "    </tr>\n",
       "    <tr>\n",
       "      <th>calculated_host_listings_count_shared_rooms</th>\n",
       "      <td>18627.0</td>\n",
       "      <td>0.048424</td>\n",
       "      <td>0.0</td>\n",
       "      <td>0.0</td>\n",
       "      <td>0.0</td>\n",
       "      <td>0.0</td>\n",
       "      <td>14.0</td>\n",
       "      <td>0.657344</td>\n",
       "    </tr>\n",
       "    <tr>\n",
       "      <th>reviews_per_month</th>\n",
       "      <td>15441.0</td>\n",
       "      <td>1.867069</td>\n",
       "      <td>0.01</td>\n",
       "      <td>0.48</td>\n",
       "      <td>1.31</td>\n",
       "      <td>2.77</td>\n",
       "      <td>48.82</td>\n",
       "      <td>1.878797</td>\n",
       "    </tr>\n",
       "  </tbody>\n",
       "</table>\n",
       "</div>"
      ],
      "text/plain": [
       "                                                count  \\\n",
       "id                                            18627.0   \n",
       "last_scraped                                    18627   \n",
       "host_listings_count                           18576.0   \n",
       "host_total_listings_count                     18576.0   \n",
       "neighbourhood_group_cleansed                      0.0   \n",
       "latitude                                      18627.0   \n",
       "longitude                                     18627.0   \n",
       "accommodates                                  18627.0   \n",
       "bathrooms                                         0.0   \n",
       "bedrooms                                      17089.0   \n",
       "beds                                          18411.0   \n",
       "minimum_nights                                18627.0   \n",
       "maximum_nights                                18627.0   \n",
       "minimum_minimum_nights                        18625.0   \n",
       "maximum_minimum_nights                        18625.0   \n",
       "minimum_maximum_nights                        18625.0   \n",
       "maximum_maximum_nights                        18625.0   \n",
       "minimum_nights_avg_ntm                        18625.0   \n",
       "maximum_nights_avg_ntm                        18625.0   \n",
       "calendar_updated                                  0.0   \n",
       "availability_30                               18627.0   \n",
       "availability_60                               18627.0   \n",
       "availability_90                               18627.0   \n",
       "availability_365                              18627.0   \n",
       "number_of_reviews                             18627.0   \n",
       "number_of_reviews_ltm                         18627.0   \n",
       "number_of_reviews_l30d                        18627.0   \n",
       "review_scores_rating                          15441.0   \n",
       "review_scores_accuracy                        15415.0   \n",
       "review_scores_cleanliness                     15415.0   \n",
       "review_scores_checkin                         15413.0   \n",
       "review_scores_communication                   15415.0   \n",
       "review_scores_location                        15413.0   \n",
       "review_scores_value                           15413.0   \n",
       "calculated_host_listings_count                18627.0   \n",
       "calculated_host_listings_count_entire_homes   18627.0   \n",
       "calculated_host_listings_count_private_rooms  18627.0   \n",
       "calculated_host_listings_count_shared_rooms   18627.0   \n",
       "reviews_per_month                             15441.0   \n",
       "\n",
       "                                                                       mean  \\\n",
       "id                                                     244970506009365984.0   \n",
       "last_scraped                                  2023-01-27 14:34:06.706393856   \n",
       "host_listings_count                                               84.257321   \n",
       "host_total_listings_count                                        121.971307   \n",
       "neighbourhood_group_cleansed                                            NaN   \n",
       "latitude                                                          32.763184   \n",
       "longitude                                                       -117.172498   \n",
       "accommodates                                                       4.815483   \n",
       "bathrooms                                                               NaN   \n",
       "bedrooms                                                           1.985195   \n",
       "beds                                                               2.666667   \n",
       "minimum_nights                                                     7.447093   \n",
       "maximum_nights                                                   486.574381   \n",
       "minimum_minimum_nights                                             8.153987   \n",
       "maximum_minimum_nights                                            10.727785   \n",
       "minimum_maximum_nights                                        807800.219597   \n",
       "maximum_maximum_nights                                       1384346.601987   \n",
       "minimum_nights_avg_ntm                                             9.648521   \n",
       "maximum_nights_avg_ntm                                       1202511.683431   \n",
       "calendar_updated                                                        NaN   \n",
       "availability_30                                                   12.800558   \n",
       "availability_60                                                   30.389864   \n",
       "availability_90                                                   48.949321   \n",
       "availability_365                                                 185.498899   \n",
       "number_of_reviews                                                 48.618779   \n",
       "number_of_reviews_ltm                                             14.548236   \n",
       "number_of_reviews_l30d                                             1.069523   \n",
       "review_scores_rating                                               4.735208   \n",
       "review_scores_accuracy                                             4.780956   \n",
       "review_scores_cleanliness                                          4.745367   \n",
       "review_scores_checkin                                              4.842457   \n",
       "review_scores_communication                                        4.831073   \n",
       "review_scores_location                                             4.814729   \n",
       "review_scores_value                                                 4.67671   \n",
       "calculated_host_listings_count                                    15.837709   \n",
       "calculated_host_listings_count_entire_homes                       14.491813   \n",
       "calculated_host_listings_count_private_rooms                       1.293552   \n",
       "calculated_host_listings_count_shared_rooms                        0.048424   \n",
       "reviews_per_month                                                  1.867069   \n",
       "\n",
       "                                                              min  \\\n",
       "id                                                            6.0   \n",
       "last_scraped                                  2022-06-15 00:00:00   \n",
       "host_listings_count                                           0.0   \n",
       "host_total_listings_count                                     0.0   \n",
       "neighbourhood_group_cleansed                                  NaN   \n",
       "latitude                                                 32.51986   \n",
       "longitude                                              -117.28258   \n",
       "accommodates                                                  0.0   \n",
       "bathrooms                                                     NaN   \n",
       "bedrooms                                                      1.0   \n",
       "beds                                                          1.0   \n",
       "minimum_nights                                                1.0   \n",
       "maximum_nights                                                1.0   \n",
       "minimum_minimum_nights                                        1.0   \n",
       "maximum_minimum_nights                                        1.0   \n",
       "minimum_maximum_nights                                        1.0   \n",
       "maximum_maximum_nights                                        1.0   \n",
       "minimum_nights_avg_ntm                                        1.0   \n",
       "maximum_nights_avg_ntm                                        1.0   \n",
       "calendar_updated                                              NaN   \n",
       "availability_30                                               0.0   \n",
       "availability_60                                               0.0   \n",
       "availability_90                                               0.0   \n",
       "availability_365                                              0.0   \n",
       "number_of_reviews                                             0.0   \n",
       "number_of_reviews_ltm                                         0.0   \n",
       "number_of_reviews_l30d                                        0.0   \n",
       "review_scores_rating                                          0.0   \n",
       "review_scores_accuracy                                        1.0   \n",
       "review_scores_cleanliness                                     1.0   \n",
       "review_scores_checkin                                         1.0   \n",
       "review_scores_communication                                   1.0   \n",
       "review_scores_location                                        1.0   \n",
       "review_scores_value                                           1.0   \n",
       "calculated_host_listings_count                                1.0   \n",
       "calculated_host_listings_count_entire_homes                   0.0   \n",
       "calculated_host_listings_count_private_rooms                  0.0   \n",
       "calculated_host_listings_count_shared_rooms                   0.0   \n",
       "reviews_per_month                                            0.01   \n",
       "\n",
       "                                                              25%  \\\n",
       "id                                                     29943733.0   \n",
       "last_scraped                                  2022-12-24 00:00:00   \n",
       "host_listings_count                                           1.0   \n",
       "host_total_listings_count                                     2.0   \n",
       "neighbourhood_group_cleansed                                  NaN   \n",
       "latitude                                                32.718332   \n",
       "longitude                                             -117.246039   \n",
       "accommodates                                                  2.0   \n",
       "bathrooms                                                     NaN   \n",
       "bedrooms                                                      1.0   \n",
       "beds                                                          1.0   \n",
       "minimum_nights                                                1.0   \n",
       "maximum_nights                                               31.0   \n",
       "minimum_minimum_nights                                        1.0   \n",
       "maximum_minimum_nights                                        2.0   \n",
       "minimum_maximum_nights                                      150.0   \n",
       "maximum_maximum_nights                                      365.0   \n",
       "minimum_nights_avg_ntm                                        2.0   \n",
       "maximum_nights_avg_ntm                                      365.0   \n",
       "calendar_updated                                              NaN   \n",
       "availability_30                                               1.0   \n",
       "availability_60                                               9.0   \n",
       "availability_90                                              19.0   \n",
       "availability_365                                             68.0   \n",
       "number_of_reviews                                             2.0   \n",
       "number_of_reviews_ltm                                         1.0   \n",
       "number_of_reviews_l30d                                        0.0   \n",
       "review_scores_rating                                         4.67   \n",
       "review_scores_accuracy                                       4.74   \n",
       "review_scores_cleanliness                                    4.67   \n",
       "review_scores_checkin                                        4.84   \n",
       "review_scores_communication                                  4.82   \n",
       "review_scores_location                                       4.78   \n",
       "review_scores_value                                          4.59   \n",
       "calculated_host_listings_count                                1.0   \n",
       "calculated_host_listings_count_entire_homes                   1.0   \n",
       "calculated_host_listings_count_private_rooms                  0.0   \n",
       "calculated_host_listings_count_shared_rooms                   0.0   \n",
       "reviews_per_month                                            0.48   \n",
       "\n",
       "                                                              50%  \\\n",
       "id                                                     49818439.0   \n",
       "last_scraped                                  2023-03-25 00:00:00   \n",
       "host_listings_count                                           4.0   \n",
       "host_total_listings_count                                     5.0   \n",
       "neighbourhood_group_cleansed                                  NaN   \n",
       "latitude                                                 32.75485   \n",
       "longitude                                              -117.16462   \n",
       "accommodates                                                  4.0   \n",
       "bathrooms                                                     NaN   \n",
       "bedrooms                                                      2.0   \n",
       "beds                                                          2.0   \n",
       "minimum_nights                                                2.0   \n",
       "maximum_nights                                              365.0   \n",
       "minimum_minimum_nights                                        2.0   \n",
       "maximum_minimum_nights                                        3.0   \n",
       "minimum_maximum_nights                                     1125.0   \n",
       "maximum_maximum_nights                                     1125.0   \n",
       "minimum_nights_avg_ntm                                        2.9   \n",
       "maximum_nights_avg_ntm                                     1125.0   \n",
       "calendar_updated                                              NaN   \n",
       "availability_30                                              11.0   \n",
       "availability_60                                              32.0   \n",
       "availability_90                                              54.0   \n",
       "availability_365                                            177.0   \n",
       "number_of_reviews                                            13.0   \n",
       "number_of_reviews_ltm                                         6.0   \n",
       "number_of_reviews_l30d                                        0.0   \n",
       "review_scores_rating                                         4.85   \n",
       "review_scores_accuracy                                       4.89   \n",
       "review_scores_cleanliness                                    4.86   \n",
       "review_scores_checkin                                        4.95   \n",
       "review_scores_communication                                  4.95   \n",
       "review_scores_location                                       4.91   \n",
       "review_scores_value                                          4.78   \n",
       "calculated_host_listings_count                                3.0   \n",
       "calculated_host_listings_count_entire_homes                   2.0   \n",
       "calculated_host_listings_count_private_rooms                  0.0   \n",
       "calculated_host_listings_count_shared_rooms                   0.0   \n",
       "reviews_per_month                                            1.31   \n",
       "\n",
       "                                                               75%  \\\n",
       "id                                            628769716496820864.0   \n",
       "last_scraped                                   2023-03-25 00:00:00   \n",
       "host_listings_count                                           20.0   \n",
       "host_total_listings_count                                     29.0   \n",
       "neighbourhood_group_cleansed                                   NaN   \n",
       "latitude                                                 32.798349   \n",
       "longitude                                              -117.129225   \n",
       "accommodates                                                   6.0   \n",
       "bathrooms                                                      NaN   \n",
       "bedrooms                                                       3.0   \n",
       "beds                                                           3.0   \n",
       "minimum_nights                                                 4.0   \n",
       "maximum_nights                                              1125.0   \n",
       "minimum_minimum_nights                                         3.0   \n",
       "maximum_minimum_nights                                         7.0   \n",
       "minimum_maximum_nights                                      1125.0   \n",
       "maximum_maximum_nights                                      1125.0   \n",
       "minimum_nights_avg_ntm                                         5.0   \n",
       "maximum_nights_avg_ntm                                      1125.0   \n",
       "calendar_updated                                               NaN   \n",
       "availability_30                                               23.0   \n",
       "availability_60                                               51.0   \n",
       "availability_90                                               79.0   \n",
       "availability_365                                             316.0   \n",
       "number_of_reviews                                             55.0   \n",
       "number_of_reviews_ltm                                         22.0   \n",
       "number_of_reviews_l30d                                         2.0   \n",
       "review_scores_rating                                          4.98   \n",
       "review_scores_accuracy                                         5.0   \n",
       "review_scores_cleanliness                                     4.99   \n",
       "review_scores_checkin                                          5.0   \n",
       "review_scores_communication                                    5.0   \n",
       "review_scores_location                                         5.0   \n",
       "review_scores_value                                           4.91   \n",
       "calculated_host_listings_count                                14.0   \n",
       "calculated_host_listings_count_entire_homes                   11.0   \n",
       "calculated_host_listings_count_private_rooms                   0.0   \n",
       "calculated_host_listings_count_shared_rooms                    0.0   \n",
       "reviews_per_month                                             2.77   \n",
       "\n",
       "                                                               max  \\\n",
       "id                                            853653678315646848.0   \n",
       "last_scraped                                   2023-03-25 00:00:00   \n",
       "host_listings_count                                         4807.0   \n",
       "host_total_listings_count                                   7816.0   \n",
       "neighbourhood_group_cleansed                                   NaN   \n",
       "latitude                                                  33.12569   \n",
       "longitude                                               -116.89656   \n",
       "accommodates                                                  16.0   \n",
       "bathrooms                                                      NaN   \n",
       "bedrooms                                                      34.0   \n",
       "beds                                                          85.0   \n",
       "minimum_nights                                               999.0   \n",
       "maximum_nights                                              1825.0   \n",
       "minimum_minimum_nights                                       999.0   \n",
       "maximum_minimum_nights                                       999.0   \n",
       "minimum_maximum_nights                                2147483647.0   \n",
       "maximum_maximum_nights                                2147483647.0   \n",
       "minimum_nights_avg_ntm                                       999.0   \n",
       "maximum_nights_avg_ntm                                2147483647.0   \n",
       "calendar_updated                                               NaN   \n",
       "availability_30                                               30.0   \n",
       "availability_60                                               60.0   \n",
       "availability_90                                               90.0   \n",
       "availability_365                                             365.0   \n",
       "number_of_reviews                                            985.0   \n",
       "number_of_reviews_ltm                                        186.0   \n",
       "number_of_reviews_l30d                                        67.0   \n",
       "review_scores_rating                                           5.0   \n",
       "review_scores_accuracy                                         5.0   \n",
       "review_scores_cleanliness                                      5.0   \n",
       "review_scores_checkin                                          5.0   \n",
       "review_scores_communication                                    5.0   \n",
       "review_scores_location                                         5.0   \n",
       "review_scores_value                                            5.0   \n",
       "calculated_host_listings_count                               216.0   \n",
       "calculated_host_listings_count_entire_homes                  216.0   \n",
       "calculated_host_listings_count_private_rooms                  85.0   \n",
       "calculated_host_listings_count_shared_rooms                   14.0   \n",
       "reviews_per_month                                            48.82   \n",
       "\n",
       "                                                               std  \n",
       "id                                            333476445445734720.0  \n",
       "last_scraped                                                   NaN  \n",
       "host_listings_count                                     374.064936  \n",
       "host_total_listings_count                                525.94779  \n",
       "neighbourhood_group_cleansed                                   NaN  \n",
       "latitude                                                  0.092287  \n",
       "longitude                                                 0.073437  \n",
       "accommodates                                              3.168323  \n",
       "bathrooms                                                      NaN  \n",
       "bedrooms                                                  1.289118  \n",
       "beds                                                      2.271751  \n",
       "minimum_nights                                           21.248847  \n",
       "maximum_nights                                          454.424281  \n",
       "minimum_minimum_nights                                   26.803797  \n",
       "maximum_minimum_nights                                   30.777284  \n",
       "minimum_maximum_nights                             41625612.420085  \n",
       "maximum_maximum_nights                             54493400.117713  \n",
       "minimum_nights_avg_ntm                                   29.367258  \n",
       "maximum_nights_avg_ntm                             49142901.576047  \n",
       "calendar_updated                                               NaN  \n",
       "availability_30                                          10.876033  \n",
       "availability_60                                          21.541226  \n",
       "availability_90                                          31.988306  \n",
       "availability_365                                        128.525744  \n",
       "number_of_reviews                                        85.282258  \n",
       "number_of_reviews_ltm                                    19.551938  \n",
       "number_of_reviews_l30d                                    1.917707  \n",
       "review_scores_rating                                      0.431426  \n",
       "review_scores_accuracy                                    0.379737  \n",
       "review_scores_cleanliness                                  0.39143  \n",
       "review_scores_checkin                                     0.347829  \n",
       "review_scores_communication                               0.364334  \n",
       "review_scores_location                                    0.323353  \n",
       "review_scores_value                                        0.40645  \n",
       "calculated_host_listings_count                           30.835294  \n",
       "calculated_host_listings_count_entire_homes              30.479628  \n",
       "calculated_host_listings_count_private_rooms               7.25652  \n",
       "calculated_host_listings_count_shared_rooms               0.657344  \n",
       "reviews_per_month                                         1.878797  "
      ]
     },
     "execution_count": 17,
     "metadata": {},
     "output_type": "execute_result"
    }
   ],
   "source": [
    "# Descriptive Statistics of a Select Subset of Features\n",
    "eda_subset.describe().T"
   ]
  },
  {
   "attachments": {},
   "cell_type": "markdown",
   "metadata": {},
   "source": [
    "## Missing Values Evaluation"
   ]
  },
  {
   "cell_type": "code",
   "execution_count": 18,
   "metadata": {},
   "outputs": [
    {
     "data": {
      "text/html": [
       "<div>\n",
       "<style scoped>\n",
       "    .dataframe tbody tr th:only-of-type {\n",
       "        vertical-align: middle;\n",
       "    }\n",
       "\n",
       "    .dataframe tbody tr th {\n",
       "        vertical-align: top;\n",
       "    }\n",
       "\n",
       "    .dataframe thead th {\n",
       "        text-align: right;\n",
       "    }\n",
       "</style>\n",
       "<table border=\"1\" class=\"dataframe\">\n",
       "  <thead>\n",
       "    <tr style=\"text-align: right;\">\n",
       "      <th></th>\n",
       "      <th>Missing_Value_Count</th>\n",
       "    </tr>\n",
       "  </thead>\n",
       "  <tbody>\n",
       "    <tr>\n",
       "      <th>description</th>\n",
       "      <td>138</td>\n",
       "    </tr>\n",
       "    <tr>\n",
       "      <th>neighborhood_overview</th>\n",
       "      <td>6735</td>\n",
       "    </tr>\n",
       "    <tr>\n",
       "      <th>host_neighbourhood</th>\n",
       "      <td>2449</td>\n",
       "    </tr>\n",
       "    <tr>\n",
       "      <th>host_listings_count</th>\n",
       "      <td>51</td>\n",
       "    </tr>\n",
       "    <tr>\n",
       "      <th>host_total_listings_count</th>\n",
       "      <td>51</td>\n",
       "    </tr>\n",
       "    <tr>\n",
       "      <th>neighbourhood</th>\n",
       "      <td>6735</td>\n",
       "    </tr>\n",
       "    <tr>\n",
       "      <th>neighbourhood_group_cleansed</th>\n",
       "      <td>18627</td>\n",
       "    </tr>\n",
       "    <tr>\n",
       "      <th>bathrooms</th>\n",
       "      <td>18627</td>\n",
       "    </tr>\n",
       "    <tr>\n",
       "      <th>bathrooms_text</th>\n",
       "      <td>6</td>\n",
       "    </tr>\n",
       "    <tr>\n",
       "      <th>bedrooms</th>\n",
       "      <td>1538</td>\n",
       "    </tr>\n",
       "    <tr>\n",
       "      <th>beds</th>\n",
       "      <td>216</td>\n",
       "    </tr>\n",
       "    <tr>\n",
       "      <th>minimum_minimum_nights</th>\n",
       "      <td>2</td>\n",
       "    </tr>\n",
       "    <tr>\n",
       "      <th>maximum_minimum_nights</th>\n",
       "      <td>2</td>\n",
       "    </tr>\n",
       "    <tr>\n",
       "      <th>minimum_maximum_nights</th>\n",
       "      <td>2</td>\n",
       "    </tr>\n",
       "    <tr>\n",
       "      <th>maximum_maximum_nights</th>\n",
       "      <td>2</td>\n",
       "    </tr>\n",
       "    <tr>\n",
       "      <th>minimum_nights_avg_ntm</th>\n",
       "      <td>2</td>\n",
       "    </tr>\n",
       "    <tr>\n",
       "      <th>maximum_nights_avg_ntm</th>\n",
       "      <td>2</td>\n",
       "    </tr>\n",
       "    <tr>\n",
       "      <th>calendar_updated</th>\n",
       "      <td>18627</td>\n",
       "    </tr>\n",
       "    <tr>\n",
       "      <th>first_review</th>\n",
       "      <td>3186</td>\n",
       "    </tr>\n",
       "    <tr>\n",
       "      <th>last_review</th>\n",
       "      <td>3186</td>\n",
       "    </tr>\n",
       "    <tr>\n",
       "      <th>review_scores_rating</th>\n",
       "      <td>3186</td>\n",
       "    </tr>\n",
       "    <tr>\n",
       "      <th>review_scores_accuracy</th>\n",
       "      <td>3212</td>\n",
       "    </tr>\n",
       "    <tr>\n",
       "      <th>review_scores_cleanliness</th>\n",
       "      <td>3212</td>\n",
       "    </tr>\n",
       "    <tr>\n",
       "      <th>review_scores_checkin</th>\n",
       "      <td>3214</td>\n",
       "    </tr>\n",
       "    <tr>\n",
       "      <th>review_scores_communication</th>\n",
       "      <td>3212</td>\n",
       "    </tr>\n",
       "    <tr>\n",
       "      <th>review_scores_location</th>\n",
       "      <td>3214</td>\n",
       "    </tr>\n",
       "    <tr>\n",
       "      <th>review_scores_value</th>\n",
       "      <td>3214</td>\n",
       "    </tr>\n",
       "    <tr>\n",
       "      <th>license</th>\n",
       "      <td>14007</td>\n",
       "    </tr>\n",
       "    <tr>\n",
       "      <th>reviews_per_month</th>\n",
       "      <td>3186</td>\n",
       "    </tr>\n",
       "  </tbody>\n",
       "</table>\n",
       "</div>"
      ],
      "text/plain": [
       "                              Missing_Value_Count\n",
       "description                                   138\n",
       "neighborhood_overview                        6735\n",
       "host_neighbourhood                           2449\n",
       "host_listings_count                            51\n",
       "host_total_listings_count                      51\n",
       "neighbourhood                                6735\n",
       "neighbourhood_group_cleansed                18627\n",
       "bathrooms                                   18627\n",
       "bathrooms_text                                  6\n",
       "bedrooms                                     1538\n",
       "beds                                          216\n",
       "minimum_minimum_nights                          2\n",
       "maximum_minimum_nights                          2\n",
       "minimum_maximum_nights                          2\n",
       "maximum_maximum_nights                          2\n",
       "minimum_nights_avg_ntm                          2\n",
       "maximum_nights_avg_ntm                          2\n",
       "calendar_updated                            18627\n",
       "first_review                                 3186\n",
       "last_review                                  3186\n",
       "review_scores_rating                         3186\n",
       "review_scores_accuracy                       3212\n",
       "review_scores_cleanliness                    3212\n",
       "review_scores_checkin                        3214\n",
       "review_scores_communication                  3212\n",
       "review_scores_location                       3214\n",
       "review_scores_value                          3214\n",
       "license                                     14007\n",
       "reviews_per_month                            3186"
      ]
     },
     "execution_count": 18,
     "metadata": {},
     "output_type": "execute_result"
    }
   ],
   "source": [
    "# Examine Which Features Have Missing Values\n",
    "eda_subset.isnull().sum().to_frame(name = \"Missing_Value_Count\").query(\"Missing_Value_Count > 0\")"
   ]
  },
  {
   "cell_type": "code",
   "execution_count": 19,
   "metadata": {},
   "outputs": [
    {
     "data": {
      "text/html": [
       "<div>\n",
       "<style scoped>\n",
       "    .dataframe tbody tr th:only-of-type {\n",
       "        vertical-align: middle;\n",
       "    }\n",
       "\n",
       "    .dataframe tbody tr th {\n",
       "        vertical-align: top;\n",
       "    }\n",
       "\n",
       "    .dataframe thead th {\n",
       "        text-align: right;\n",
       "    }\n",
       "</style>\n",
       "<table border=\"1\" class=\"dataframe\">\n",
       "  <thead>\n",
       "    <tr style=\"text-align: right;\">\n",
       "      <th></th>\n",
       "      <th>Missing_Value_Count</th>\n",
       "    </tr>\n",
       "  </thead>\n",
       "  <tbody>\n",
       "    <tr>\n",
       "      <th>neighbourhood_group_cleansed</th>\n",
       "      <td>18627</td>\n",
       "    </tr>\n",
       "    <tr>\n",
       "      <th>bathrooms</th>\n",
       "      <td>18627</td>\n",
       "    </tr>\n",
       "    <tr>\n",
       "      <th>calendar_updated</th>\n",
       "      <td>18627</td>\n",
       "    </tr>\n",
       "  </tbody>\n",
       "</table>\n",
       "</div>"
      ],
      "text/plain": [
       "                              Missing_Value_Count\n",
       "neighbourhood_group_cleansed                18627\n",
       "bathrooms                                   18627\n",
       "calendar_updated                            18627"
      ]
     },
     "execution_count": 19,
     "metadata": {},
     "output_type": "execute_result"
    }
   ],
   "source": [
    "# Look at columns with missing values for every record\n",
    "eda_subset.isnull().sum().to_frame(name = \"Missing_Value_Count\").query(\"Missing_Value_Count == 18627\")"
   ]
  },
  {
   "cell_type": "code",
   "execution_count": 20,
   "metadata": {},
   "outputs": [],
   "source": [
    "# Drop columns that cannot be filled\n",
    "eda_subset = eda_subset.drop(\n",
    "    columns = [\"neighbourhood_group_cleansed\", \"calendar_updated\"], axis = 1)"
   ]
  },
  {
   "attachments": {},
   "cell_type": "markdown",
   "metadata": {},
   "source": [
    "3 columns, _neighbourhood_group_cleansed_, _bathrooms_, and _calendar_updated_, are missing values for every single row. While, _neighbourhood_group_cleansed_ and _calendar_updated_ may be dropped, as their information is not especially key to determining price, the number of _bathrooms_ is key.\n",
    "\n",
    "_bathrooms_text_ is a text version of the the numerical bathrooms column. _Bathrooms_text_ can be used to fill the missing values for _bathrooms_."
   ]
  },
  {
   "attachments": {},
   "cell_type": "markdown",
   "metadata": {},
   "source": [
    "### Filling _bathrooms_ Missing Values with Values from _bathrooms_text_"
   ]
  },
  {
   "cell_type": "code",
   "execution_count": 21,
   "metadata": {},
   "outputs": [
    {
     "data": {
      "text/html": [
       "<div>\n",
       "<style scoped>\n",
       "    .dataframe tbody tr th:only-of-type {\n",
       "        vertical-align: middle;\n",
       "    }\n",
       "\n",
       "    .dataframe tbody tr th {\n",
       "        vertical-align: top;\n",
       "    }\n",
       "\n",
       "    .dataframe thead th {\n",
       "        text-align: right;\n",
       "    }\n",
       "</style>\n",
       "<table border=\"1\" class=\"dataframe\">\n",
       "  <thead>\n",
       "    <tr style=\"text-align: right;\">\n",
       "      <th></th>\n",
       "      <th>bathrooms</th>\n",
       "      <th>bathrooms_text</th>\n",
       "    </tr>\n",
       "  </thead>\n",
       "  <tbody>\n",
       "    <tr>\n",
       "      <th>8853</th>\n",
       "      <td>NaN</td>\n",
       "      <td>2 baths</td>\n",
       "    </tr>\n",
       "    <tr>\n",
       "      <th>8839</th>\n",
       "      <td>NaN</td>\n",
       "      <td>1.5 baths</td>\n",
       "    </tr>\n",
       "    <tr>\n",
       "      <th>8838</th>\n",
       "      <td>NaN</td>\n",
       "      <td>1 bath</td>\n",
       "    </tr>\n",
       "    <tr>\n",
       "      <th>8819</th>\n",
       "      <td>NaN</td>\n",
       "      <td>1 private bath</td>\n",
       "    </tr>\n",
       "    <tr>\n",
       "      <th>8823</th>\n",
       "      <td>NaN</td>\n",
       "      <td>1 private bath</td>\n",
       "    </tr>\n",
       "  </tbody>\n",
       "</table>\n",
       "</div>"
      ],
      "text/plain": [
       "      bathrooms  bathrooms_text\n",
       "8853        NaN         2 baths\n",
       "8839        NaN       1.5 baths\n",
       "8838        NaN          1 bath\n",
       "8819        NaN  1 private bath\n",
       "8823        NaN  1 private bath"
      ]
     },
     "execution_count": 21,
     "metadata": {},
     "output_type": "execute_result"
    }
   ],
   "source": [
    "# Sample of text data used to fill numerical field\n",
    "eda_subset[[\"bathrooms\", \"bathrooms_text\"]].head(5)"
   ]
  },
  {
   "cell_type": "code",
   "execution_count": 22,
   "metadata": {},
   "outputs": [],
   "source": [
    "# Function to extract integers and floats from text\n",
    "def bath_number(text):\n",
    "    try:\n",
    "        num_baths = re.search(\"[\\d.]\", text).group()\n",
    "        # Returns integer or float\n",
    "        return num_baths\n",
    "    except:\n",
    "        # If no value could be returned\n",
    "        # Return a missing value placeholder\n",
    "        return np.nan\n",
    "\n",
    "# Apply function to bathroom_text column to fill bathrooms column\n",
    "eda_subset[\"bathrooms\"] = eda_subset[\"bathrooms_text\"].apply(\n",
    "    lambda x: bath_number(x)\n",
    ")\n"
   ]
  },
  {
   "cell_type": "code",
   "execution_count": 23,
   "metadata": {},
   "outputs": [
    {
     "data": {
      "text/plain": [
       "bathrooms_text\n",
       "Private half-bath    69\n",
       "Half-bath            16\n",
       "Shared half-bath      6\n",
       "Name: count, dtype: int64"
      ]
     },
     "execution_count": 23,
     "metadata": {},
     "output_type": "execute_result"
    }
   ],
   "source": [
    "# Assess bathroom values that could not be filled\n",
    "eda_subset[eda_subset[\"bathrooms\"].isnull()][\"bathrooms_text\"].value_counts()\n",
    "# Text descriptions that do not contain numerical text will have to be filled manually"
   ]
  },
  {
   "cell_type": "code",
   "execution_count": 24,
   "metadata": {},
   "outputs": [],
   "source": [
    "# Fill missing bathroom values based on text values\n",
    "eda_subset.loc[eda_subset[\"bathrooms_text\"] == \"Private half-bath\", [\"bathrooms\"]] = 0.5\n",
    "eda_subset.loc[eda_subset[\"bathrooms_text\"] == \"Half-bath\", [\"bathrooms\"]] = 0.5\n",
    "eda_subset.loc[eda_subset[\"bathrooms_text\"] == \"Shared half-bath\", [\"bathrooms\"]] = 0.5"
   ]
  },
  {
   "cell_type": "code",
   "execution_count": 25,
   "metadata": {},
   "outputs": [
    {
     "data": {
      "text/plain": [
       "6"
      ]
     },
     "execution_count": 25,
     "metadata": {},
     "output_type": "execute_result"
    }
   ],
   "source": [
    "# After imputing the bathroom values with _bathroom_text_,\n",
    "# Only 6 missing values for bathrooms remain\n",
    "eda_subset[\"bathrooms\"].isnull().sum()"
   ]
  },
  {
   "attachments": {},
   "cell_type": "markdown",
   "metadata": {},
   "source": [
    "The feature bathrooms_text can now be dropped, as the feature bathroom now contains the same information, in numerical format."
   ]
  },
  {
   "cell_type": "code",
   "execution_count": 26,
   "metadata": {},
   "outputs": [],
   "source": [
    "# Drop bathrooms_text feature\n",
    "eda_subset = eda_subset.drop(columns = [\"bathrooms_text\"], axis = 1)"
   ]
  },
  {
   "attachments": {},
   "cell_type": "markdown",
   "metadata": {},
   "source": [
    "## Zip Code and Median Income Feature Creation\n",
    "From the given longitude and latitude coordinates, find the zip code of the rental property. Then, add a new column _median_income_ for the median income of the zip code, using census data."
   ]
  },
  {
   "attachments": {},
   "cell_type": "markdown",
   "metadata": {},
   "source": [
    "**I think we might want to move this section to Preprocessing/Feature Enginnering - but I'm not sure because we also need it for EDA**"
   ]
  },
  {
   "cell_type": "code",
   "execution_count": 27,
   "metadata": {},
   "outputs": [
    {
     "name": "stdout",
     "output_type": "stream",
     "text": [
      "Download C:\\Users\\hunte\\.uszipcode\\simple_db.sqlite from https://github.com/MacHu-GWU/uszipcode-project/releases/download/1.0.1.db/simple_db.sqlite ...\n",
      "  1.00 MB downloaded ...\n",
      "  2.00 MB downloaded ...\n",
      "  3.00 MB downloaded ...\n",
      "  4.00 MB downloaded ...\n",
      "  5.00 MB downloaded ...\n",
      "  6.00 MB downloaded ...\n",
      "  7.00 MB downloaded ...\n",
      "  8.00 MB downloaded ...\n",
      "  9.00 MB downloaded ...\n",
      "  10.00 MB downloaded ...\n",
      "  11.00 MB downloaded ...\n",
      "  Complete!\n"
     ]
    }
   ],
   "source": [
    "# Set up a search engine\n",
    "search = SearchEngine()\n",
    "\n",
    "# Function to search for a zip code based on a coordinate pair\n",
    "def get_zipcode(lat, lon):\n",
    "    result = search.by_coordinates(lat = lat, lng = lon, returns = 1)\n",
    "    return result[0].zipcode\n",
    "\n",
    "# Create a new column _zipcode_ and apply the get_zipcode function\n",
    "## This takes a few minutes to complete\n",
    "eda_subset['zipcode'] = eda_subset.apply(lambda x: get_zipcode(x[\"latitude\"], x[\"longitude\"]), axis=1)"
   ]
  },
  {
   "attachments": {},
   "cell_type": "markdown",
   "metadata": {},
   "source": [
    "Zipcode 92133 was unfound in the census data; the closest zip code geographically is 92101. All records with a zipcode of 92133 will be updated to 92101."
   ]
  },
  {
   "cell_type": "code",
   "execution_count": 28,
   "metadata": {},
   "outputs": [],
   "source": [
    "# Replacing zipcode 92133 with 92101\n",
    "eda_subset.loc[eda_subset[\"zipcode\"] == \"92133\", \"zipcode\"] = \"92101\""
   ]
  },
  {
   "attachments": {},
   "cell_type": "markdown",
   "metadata": {},
   "source": [
    "### Median Income Data Information\n",
    "Import in median income data and join the tables together based on zipcode."
   ]
  },
  {
   "cell_type": "code",
   "execution_count": 29,
   "metadata": {},
   "outputs": [],
   "source": [
    "# Read in median income information\n",
    "income_df = pd.read_csv(\"../Data/SanDiego5Y2021_IncomeData.csv\")"
   ]
  },
  {
   "cell_type": "code",
   "execution_count": 73,
   "metadata": {},
   "outputs": [
    {
     "data": {
      "text/html": [
       "<div>\n",
       "<style scoped>\n",
       "    .dataframe tbody tr th:only-of-type {\n",
       "        vertical-align: middle;\n",
       "    }\n",
       "\n",
       "    .dataframe tbody tr th {\n",
       "        vertical-align: top;\n",
       "    }\n",
       "\n",
       "    .dataframe thead th {\n",
       "        text-align: right;\n",
       "    }\n",
       "</style>\n",
       "<table border=\"1\" class=\"dataframe\">\n",
       "  <thead>\n",
       "    <tr style=\"text-align: right;\">\n",
       "      <th>Labels</th>\n",
       "      <th>zipcode</th>\n",
       "      <th>Median income (dollars)</th>\n",
       "    </tr>\n",
       "  </thead>\n",
       "  <tbody>\n",
       "    <tr>\n",
       "      <th>0</th>\n",
       "      <td>91902</td>\n",
       "      <td>112,331</td>\n",
       "    </tr>\n",
       "    <tr>\n",
       "      <th>1</th>\n",
       "      <td>91910</td>\n",
       "      <td>77,005</td>\n",
       "    </tr>\n",
       "    <tr>\n",
       "      <th>2</th>\n",
       "      <td>91911</td>\n",
       "      <td>70,873</td>\n",
       "    </tr>\n",
       "  </tbody>\n",
       "</table>\n",
       "</div>"
      ],
      "text/plain": [
       "Labels zipcode Median income (dollars)\n",
       "0        91902                 112,331\n",
       "1        91910                  77,005\n",
       "2        91911                  70,873"
      ]
     },
     "execution_count": 73,
     "metadata": {},
     "output_type": "execute_result"
    }
   ],
   "source": [
    "# Extract only the necessary columns\n",
    "income_df_subset = income_df.filter(\n",
    "    regex = \"!!Households!!Estimate\",\n",
    "    axis = 1\n",
    ")\n",
    "\n",
    "# Rename Columns to just contain 5-digit zipcodes\n",
    "income_df_subset.columns = [x[6:11] for x in income_df_subset.columns]\n",
    "\n",
    "# Insert Label (Grouping) Col\n",
    "income_df_subset.insert(0, \"Labels\", income_df[\"Label (Grouping)\"])\n",
    "# Set Label column as index\n",
    "income_df_subset.set_index(\"Labels\", inplace = True)\n",
    "\n",
    "# Transpose Table\n",
    "income_df_subset_T = income_df_subset.T\n",
    "# Move zipcodes out of index - make a column of zipcodes\n",
    "income_df_subset_T.reset_index(inplace = True)\n",
    "# Rename index column as \"zipcode\"\n",
    "income_df_subset_T.columns.values[0] = \"zipcode\"\n",
    "# Keep just median income column\n",
    "median_income_df = income_df_subset_T[[\"zipcode\", \"Median income (dollars)\"]]\n",
    "\n",
    "median_income_df.head(3)"
   ]
  },
  {
   "cell_type": "code",
   "execution_count": 31,
   "metadata": {},
   "outputs": [],
   "source": [
    "# Add to eda_subset _median_income_ column based on existing zipcode\n",
    "eda_income_df = pd.merge(eda_subset, median_income_df, how = \"inner\", on = \"zipcode\")\n",
    "# Rename median income column\n",
    "eda_income_df.columns.values[-1] = \"median_income_dollars\""
   ]
  },
  {
   "attachments": {},
   "cell_type": "markdown",
   "metadata": {},
   "source": [
    "## Feature Distribution\n",
    "Examine the distribution of each feature"
   ]
  },
  {
   "cell_type": "code",
   "execution_count": 32,
   "metadata": {},
   "outputs": [
    {
     "data": {
      "image/png": "[encoded data removed]",
      "text/plain": [
       "<Figure size 1800x1152 with 36 Axes>"
      ]
     },
     "metadata": {
      "needs_background": "light"
     },
     "output_type": "display_data"
    }
   ],
   "source": [
    "fig = plt.figure(figsize=(25, 16))\n",
    "axes = fig.gca()\n",
    "eda_income_df.hist(ax = axes)\n",
    "\n",
    "\n",
    "plt.show()"
   ]
  },
  {
   "attachments": {},
   "cell_type": "markdown",
   "metadata": {},
   "source": [
    "## Feature Correlation\n",
    "Evaluate the correlation amongst variables via Pearson's correlation coefficient and a heatmap."
   ]
  },
  {
   "cell_type": "code",
   "execution_count": 33,
   "metadata": {},
   "outputs": [
    {
     "data": {
      "image/png": "[encoded data removed]",
      "text/plain": [
       "<Figure size 432x288 with 2 Axes>"
      ]
     },
     "metadata": {
      "needs_background": "light"
     },
     "output_type": "display_data"
    },
    {
     "data": {
      "text/plain": [
       "<Figure size 720x360 with 0 Axes>"
      ]
     },
     "metadata": {},
     "output_type": "display_data"
    }
   ],
   "source": [
    "# Calculate the correlation coefficient between every feature pair\n",
    "corr_matrix = eda_income_df.select_dtypes([\"int\", \"float\"]).corr()\n",
    "# Create a mask \n",
    "matrix_mask = np.triu(np.ones_like(corr_matrix))\n",
    "\n",
    "# Convert the correlation matrix into a heatmap\n",
    "# Set values to range from -1 to 1\n",
    "corr_heatmap = sns.heatmap(corr_matrix, vmin = -1, vmax = 1,\n",
    "                           cmap = \"viridis\",\n",
    "                           mask = matrix_mask)\n",
    "\n",
    "\n",
    "plt.figure(figsize=(10, 5))\n",
    "corr_heatmap.set_title(\"Feature Correlation Heatmap\")\n",
    "plt.show()"
   ]
  },
  {
   "cell_type": "code",
   "execution_count": 34,
   "metadata": {},
   "outputs": [],
   "source": [
    "# Function to observe highly correlated features\n",
    "def high_correlation(df, threshold = 0.75):\n",
    "\t# Correlation Matrix for Numerical Features\n",
    "\tcorr_matrix = df.select_dtypes([\"int\", \"float\"]).corr()\n",
    "\n",
    "\t# Get features with a correlation coefficient above the set threshold\n",
    "\t# Use the absolute value to capture both positive and negative coefficients\n",
    "\tcorr_features = np.where(np.abs(corr_matrix) > threshold)\n",
    "\n",
    "\t# Exclude self-correlation (i.e. feat. a is correlated with feat. a)\n",
    "\tcorr_features = [\n",
    "\t\t(corr_matrix.iloc[x,y], x, y) for x, y in zip(*corr_features) if x != y and x < y]\n",
    "\t\n",
    "\t# Sort Values\n",
    "\tcorr_list = sorted(corr_features, key = lambda x: -abs(x[0]))\n",
    "\n",
    "\tif corr_list == []:\n",
    "\t\tprint(\"There are no highly correlated features with correlation above\", threshold)\n",
    "\telse:\n",
    "\t\tfor z, x, y in corr_list:\n",
    "\t\t\tcols = df.select_dtypes([\"int\", \"float\"]).columns\n",
    "\t\t\tprint (\"%s and %s = %.3f\" % (corr_matrix.index[x], corr_matrix.columns[y], z))"
   ]
  },
  {
   "cell_type": "code",
   "execution_count": 35,
   "metadata": {},
   "outputs": [
    {
     "name": "stdout",
     "output_type": "stream",
     "text": [
      "maximum_minimum_nights and minimum_nights_avg_ntm = 0.980\n",
      "calculated_host_listings_count and calculated_host_listings_count_entire_homes = 0.972\n",
      "availability_60 and availability_90 = 0.968\n",
      "maximum_maximum_nights and maximum_nights_avg_ntm = 0.963\n",
      "availability_30 and availability_60 = 0.926\n",
      "minimum_minimum_nights and minimum_nights_avg_ntm = 0.917\n",
      "host_listings_count and host_total_listings_count = 0.914\n",
      "review_scores_rating and review_scores_accuracy = 0.871\n",
      "minimum_minimum_nights and maximum_minimum_nights = 0.870\n",
      "review_scores_rating and review_scores_value = 0.857\n",
      "availability_30 and availability_90 = 0.856\n",
      "minimum_maximum_nights and maximum_nights_avg_ntm = 0.847\n",
      "bedrooms and beds = 0.830\n",
      "review_scores_accuracy and review_scores_value = 0.816\n",
      "review_scores_rating and review_scores_cleanliness = 0.815\n",
      "accommodates and bedrooms = 0.812\n",
      "accommodates and beds = 0.802\n",
      "review_scores_rating and review_scores_communication = 0.796\n",
      "number_of_reviews_ltm and reviews_per_month = 0.796\n",
      "review_scores_checkin and review_scores_communication = 0.767\n",
      "minimum_maximum_nights and maximum_maximum_nights = 0.764\n",
      "number_of_reviews_l30d and reviews_per_month = 0.763\n",
      "review_scores_accuracy and review_scores_cleanliness = 0.754\n",
      "review_scores_accuracy and review_scores_communication = 0.752\n"
     ]
    }
   ],
   "source": [
    "high_correlation(eda_income_df)"
   ]
  },
  {
   "attachments": {},
   "cell_type": "markdown",
   "metadata": {},
   "source": [
    "## Feature Variance\n",
    "Assess the variance of all features and determine if features with a near-zero variance should be kept or removed."
   ]
  },
  {
   "cell_type": "code",
   "execution_count": 54,
   "metadata": {},
   "outputs": [
    {
     "data": {
      "text/plain": [
       "private                                           0.000000\n",
       "longitude                                         0.005393\n",
       "latitude                                          0.008517\n",
       "review_scores_location                            0.104557\n",
       "review_scores_checkin                             0.120985\n",
       "review_scores_communication                       0.132739\n",
       "review_scores_accuracy                            0.144201\n",
       "review_scores_cleanliness                         0.153217\n",
       "review_scores_value                               0.165201\n",
       "review_scores_rating                              0.186128\n",
       "calculated_host_listings_count_shared_rooms       0.432101\n",
       "bedrooms                                          1.661824\n",
       "reviews_per_month                                 3.529879\n",
       "number_of_reviews_l30d                            3.677599\n",
       "beds                                              5.160855\n",
       "accommodates                                     10.038270\n",
       "calculated_host_listings_count_private_rooms     52.657084\n",
       "availability_30                                 118.288096\n",
       "number_of_reviews_ltm                           382.278289\n",
       "minimum_nights                                  451.513509\n",
       "availability_60                                 464.024418\n",
       "minimum_minimum_nights                          718.443533\n",
       "minimum_nights_avg_ntm                          862.435856\n",
       "calculated_host_listings_count_entire_homes     929.007704\n",
       "maximum_minimum_nights                          947.241187\n",
       "dtype: float64"
      ]
     },
     "execution_count": 54,
     "metadata": {},
     "output_type": "execute_result"
    }
   ],
   "source": [
    "var_df = eda_income_df.select_dtypes(include=np.number).var()\n",
    "var_df.sort_values().head(25)"
   ]
  },
  {
   "attachments": {},
   "cell_type": "markdown",
   "metadata": {},
   "source": [
    "## Maps\n",
    "### Plot zip codes and boundaries colored by median income\n",
    "\n",
    "Add dots on map to represent Airbnb listings \n",
    "NOTE: I think adding dots may make the map look a bit busy without giving us much info\n",
    "\n",
    "**Needs work**"
   ]
  },
  {
   "cell_type": "code",
   "execution_count": 74,
   "metadata": {},
   "outputs": [],
   "source": [
    "# Lets try geopandas instead\n",
    "import geopandas\n",
    "\n",
    "# Need to fix the median income column to make chloropleth\n",
    "median_income_df['Median income (dollars)']\n",
    "median_income_df['Median income (dollars)'] = median_income_df['Median income (dollars)'].str.replace(',', '').astype(float)\n",
    "\n",
    "# Source - https://sdgis-sandag.opendata.arcgis.com/datasets/SANDAG::zip-code/explore?location=32.916477%2C-114.604036%2C8.00\n",
    "SD_zip_shapes = geopandas.read_file(\"../Data/SDZips.geojson\")\n",
    "\n",
    "# Join the zipcodes we need\n",
    "median_income_df['zipcode'] = pd.to_numeric(median_income_df['zipcode'])\n",
    "SD_gdf = median_income_df.merge(SD_zip_shapes, left_on='zipcode', right_on = 'ZIP', how='left')\n",
    "\n",
    "# Had a few duplicate zipcodes from the geojson, we'll drop them\n",
    "SD_gdf = SD_gdf.drop_duplicates(subset=['zipcode'])\n",
    "\n",
    "# Finish geodataframe\n",
    "SD_gdf_income = geopandas.GeoDataFrame(SD_gdf['Median income (dollars)'], geometry=SD_gdf.geometry)"
   ]
  },
  {
   "cell_type": "code",
   "execution_count": 75,
   "metadata": {},
   "outputs": [
    {
     "data": {
      "image/png": "[encoded data removed]",
      "text/plain": [
       "<Figure size 1152x576 with 2 Axes>"
      ]
     },
     "metadata": {
      "needs_background": "light"
     },
     "output_type": "display_data"
    }
   ],
   "source": [
    "# Plot our map\n",
    "SD_gdf_income.plot(column=\"Median income (dollars)\", cmap = 'BuGn', edgecolor = 'k', legend = True, figsize=(16,8))\n",
    "plt.title(\"Median Income (USD) of San Diego Zip Codes\")\n",
    "plt.axis('off');"
   ]
  },
  {
   "cell_type": "code",
   "execution_count": 36,
   "metadata": {},
   "outputs": [],
   "source": [
    "test_df = median_income_df[:30]"
   ]
  },
  {
   "cell_type": "code",
   "execution_count": null,
   "metadata": {},
   "outputs": [],
   "source": [
    "'''\n",
    "from urllib.request import urlopen\n",
    "import json\n",
    "import plotly.express as px\n",
    "\n",
    "with urlopen(\"https://raw.githubusercontent.com/OpenDataDE/State-zip-code-GeoJSON/master/ca_california_zip_codes_geo.min.json\") as response:\n",
    "    ca_boundaries = json.load(response)\n",
    "\n",
    "fig = px.choropleth(test_df,\n",
    "                    geojson = ca_boundaries,\n",
    "                    locations=\"zipcode\",\n",
    "                    featureidkey=\"properties.ZCTA5CE10\",\n",
    "                    scope = \"usa\",\n",
    "                    color=\"Median income (dollars)\",\n",
    "                    color_continuous_scale=\"blues\",\n",
    "                    projection=\"mercator\",\n",
    "                    labels={\"Median income (dollars)\":\"Median Income\"}\n",
    "                    )\n",
    "\n",
    "fig.update_geos(fitbounds=\"locations\", visible=False)\n",
    "fig.update_layout(margin={\"r\":0,\"t\":0,\"l\":0,\"b\":0})\n",
    "\n",
    "fig.show()\n",
    "'''"
   ]
  },
  {
   "cell_type": "markdown",
   "metadata": {},
   "source": [
    "### Average Rent by Zip Code"
   ]
  },
  {
   "cell_type": "code",
   "execution_count": 81,
   "metadata": {},
   "outputs": [],
   "source": [
    "# Fix the price variable\n",
    "eda_income_df['price'] = eda_income_df['price'].str.replace('$', '')\n",
    "eda_income_df['price'] = eda_income_df['price'].str.replace(',', '')\n",
    "eda_income_df['price'] = pd.to_numeric(eda_income_df['price'])\n",
    "\n",
    "# Fix the zipcode variable\n",
    "eda_income_df['zipcode'] = pd.to_numeric(eda_income_df['zipcode'])"
   ]
  },
  {
   "cell_type": "code",
   "execution_count": 83,
   "metadata": {},
   "outputs": [],
   "source": [
    "# Create the df\n",
    "rent_zip = eda_income_df.groupby(by='zipcode', as_index=False)['price'].mean()\n",
    "rent_zip = rent_zip.merge(SD_gdf, left_on='zipcode', right_on='zipcode')\n",
    "rent_zip_gdf = geopandas.GeoDataFrame(rent_zip['price'], geometry=rent_zip['geometry'])"
   ]
  },
  {
   "cell_type": "code",
   "execution_count": 86,
   "metadata": {},
   "outputs": [
    {
     "data": {
      "image/png": "[encoded data removed]",
      "text/plain": [
       "<Figure size 1152x576 with 2 Axes>"
      ]
     },
     "metadata": {
      "needs_background": "light"
     },
     "output_type": "display_data"
    }
   ],
   "source": [
    "# Plot our map\n",
    "rent_zip_gdf.plot(column=\"price\", cmap = 'BuGn', edgecolor = 'k', legend = True, figsize=(16,8))\n",
    "plt.title(\"Average Daily Rental Price by Zipcode\")\n",
    "plt.axis('off');"
   ]
  },
  {
   "attachments": {},
   "cell_type": "markdown",
   "metadata": {},
   "source": [
    "## EDA by Property Type"
   ]
  },
  {
   "attachments": {},
   "cell_type": "markdown",
   "metadata": {},
   "source": [
    "### Create new binary column for Property Type \n",
    "\n",
    "- New binary column (property_type_binary) - Values are either room or house\n",
    "- New binary column private (0 - not a private room (i.e. shared room), 1 - private)"
   ]
  },
  {
   "cell_type": "code",
   "execution_count": 40,
   "metadata": {},
   "outputs": [
    {
     "data": {
      "text/html": [
       "<div>\n",
       "<style scoped>\n",
       "    .dataframe tbody tr th:only-of-type {\n",
       "        vertical-align: middle;\n",
       "    }\n",
       "\n",
       "    .dataframe tbody tr th {\n",
       "        vertical-align: top;\n",
       "    }\n",
       "\n",
       "    .dataframe thead th {\n",
       "        text-align: right;\n",
       "    }\n",
       "</style>\n",
       "<table border=\"1\" class=\"dataframe\">\n",
       "  <thead>\n",
       "    <tr style=\"text-align: right;\">\n",
       "      <th></th>\n",
       "      <th>property_type</th>\n",
       "      <th>property_type_binary</th>\n",
       "      <th>private</th>\n",
       "    </tr>\n",
       "  </thead>\n",
       "  <tbody>\n",
       "    <tr>\n",
       "      <th>0</th>\n",
       "      <td>Entire home</td>\n",
       "      <td>house</td>\n",
       "      <td>1</td>\n",
       "    </tr>\n",
       "    <tr>\n",
       "      <th>1</th>\n",
       "      <td>Private room in condo</td>\n",
       "      <td>room</td>\n",
       "      <td>1</td>\n",
       "    </tr>\n",
       "    <tr>\n",
       "      <th>2</th>\n",
       "      <td>Entire home</td>\n",
       "      <td>house</td>\n",
       "      <td>1</td>\n",
       "    </tr>\n",
       "    <tr>\n",
       "      <th>3</th>\n",
       "      <td>Entire home</td>\n",
       "      <td>house</td>\n",
       "      <td>1</td>\n",
       "    </tr>\n",
       "    <tr>\n",
       "      <th>4</th>\n",
       "      <td>Camper/RV</td>\n",
       "      <td>house</td>\n",
       "      <td>1</td>\n",
       "    </tr>\n",
       "    <tr>\n",
       "      <th>...</th>\n",
       "      <td>...</td>\n",
       "      <td>...</td>\n",
       "      <td>...</td>\n",
       "    </tr>\n",
       "    <tr>\n",
       "      <th>18622</th>\n",
       "      <td>Entire rental unit</td>\n",
       "      <td>house</td>\n",
       "      <td>1</td>\n",
       "    </tr>\n",
       "    <tr>\n",
       "      <th>18623</th>\n",
       "      <td>Entire home</td>\n",
       "      <td>house</td>\n",
       "      <td>1</td>\n",
       "    </tr>\n",
       "    <tr>\n",
       "      <th>18624</th>\n",
       "      <td>Private room in home</td>\n",
       "      <td>room</td>\n",
       "      <td>1</td>\n",
       "    </tr>\n",
       "    <tr>\n",
       "      <th>18625</th>\n",
       "      <td>Entire guesthouse</td>\n",
       "      <td>house</td>\n",
       "      <td>1</td>\n",
       "    </tr>\n",
       "    <tr>\n",
       "      <th>18626</th>\n",
       "      <td>Entire guesthouse</td>\n",
       "      <td>house</td>\n",
       "      <td>1</td>\n",
       "    </tr>\n",
       "  </tbody>\n",
       "</table>\n",
       "<p>18627 rows × 3 columns</p>\n",
       "</div>"
      ],
      "text/plain": [
       "               property_type property_type_binary  private\n",
       "0                Entire home                house        1\n",
       "1      Private room in condo                 room        1\n",
       "2                Entire home                house        1\n",
       "3                Entire home                house        1\n",
       "4                  Camper/RV                house        1\n",
       "...                      ...                  ...      ...\n",
       "18622     Entire rental unit                house        1\n",
       "18623            Entire home                house        1\n",
       "18624   Private room in home                 room        1\n",
       "18625      Entire guesthouse                house        1\n",
       "18626      Entire guesthouse                house        1\n",
       "\n",
       "[18627 rows x 3 columns]"
      ]
     },
     "execution_count": 40,
     "metadata": {},
     "output_type": "execute_result"
    }
   ],
   "source": [
    "#Create the new \"property_type_binary\" column\n",
    "eda_income_df[\"property_type_binary\"] = eda_income_df[\"property_type\"].apply(\n",
    "    lambda x: \"room\" if \"room\" in x.lower() else \"house\")\n",
    "\n",
    "# Create the new \"private\" column\n",
    "eda_income_df[\"private\"] = eda_income_df[\"property_type\"].apply(\n",
    "    lambda x: 1 if \"private\" or \"entire\" in x.lower() else 0)\n",
    "\n",
    "# Optional: You can convert the \"private\" column to integer type if needed\n",
    "eda_income_df[\"private\"] = eda_income_df[\"private\"].astype(int)\n",
    "\n",
    "# Print the updated DataFrame\n",
    "eda_income_df[[\"property_type\", \"property_type_binary\", \"private\"]]"
   ]
  },
  {
   "cell_type": "markdown",
   "metadata": {},
   "source": [
    "### Some Counting Stats\n",
    "Private vs. non-private - Looks like everything is private, should remove this feature to prevent zero-variance issues."
   ]
  },
  {
   "cell_type": "code",
   "execution_count": 89,
   "metadata": {},
   "outputs": [
    {
     "data": {
      "text/plain": [
       "private\n",
       "1    18627\n",
       "Name: count, dtype: int64"
      ]
     },
     "execution_count": 89,
     "metadata": {},
     "output_type": "execute_result"
    }
   ],
   "source": [
    "eda_income_df['private'].value_counts()"
   ]
  },
  {
   "cell_type": "markdown",
   "metadata": {},
   "source": [
    "House vs. Room\n",
    "We have a lot more houses than rooms. Not suprisingly houses also cost around 170 more than rooms on average."
   ]
  },
  {
   "cell_type": "code",
   "execution_count": 88,
   "metadata": {},
   "outputs": [
    {
     "data": {
      "text/plain": [
       "property_type_binary\n",
       "house    15300\n",
       "room      3327\n",
       "Name: count, dtype: int64"
      ]
     },
     "execution_count": 88,
     "metadata": {},
     "output_type": "execute_result"
    }
   ],
   "source": [
    "eda_income_df['property_type_binary'].value_counts()"
   ]
  },
  {
   "cell_type": "code",
   "execution_count": 90,
   "metadata": {},
   "outputs": [
    {
     "data": {
      "text/html": [
       "<div>\n",
       "<style scoped>\n",
       "    .dataframe tbody tr th:only-of-type {\n",
       "        vertical-align: middle;\n",
       "    }\n",
       "\n",
       "    .dataframe tbody tr th {\n",
       "        vertical-align: top;\n",
       "    }\n",
       "\n",
       "    .dataframe thead th {\n",
       "        text-align: right;\n",
       "    }\n",
       "</style>\n",
       "<table border=\"1\" class=\"dataframe\">\n",
       "  <thead>\n",
       "    <tr style=\"text-align: right;\">\n",
       "      <th></th>\n",
       "      <th>property_type_binary</th>\n",
       "      <th>price</th>\n",
       "    </tr>\n",
       "  </thead>\n",
       "  <tbody>\n",
       "    <tr>\n",
       "      <th>0</th>\n",
       "      <td>house</td>\n",
       "      <td>370.024641</td>\n",
       "    </tr>\n",
       "    <tr>\n",
       "      <th>1</th>\n",
       "      <td>room</td>\n",
       "      <td>198.301773</td>\n",
       "    </tr>\n",
       "  </tbody>\n",
       "</table>\n",
       "</div>"
      ],
      "text/plain": [
       "  property_type_binary       price\n",
       "0                house  370.024641\n",
       "1                 room  198.301773"
      ]
     },
     "execution_count": 90,
     "metadata": {},
     "output_type": "execute_result"
    }
   ],
   "source": [
    "eda_income_df.groupby(by='property_type_binary', as_index=False)['price'].mean()"
   ]
  },
  {
   "cell_type": "markdown",
   "metadata": {},
   "source": [
    "### House vs. Rooms by Zip Code\n",
    "Do any areas have more houses than rooms or vice-versa"
   ]
  },
  {
   "cell_type": "code",
   "execution_count": 104,
   "metadata": {},
   "outputs": [],
   "source": [
    "# Make df\n",
    "house_room = pd.crosstab(eda_income_df.zipcode, eda_income_df.property_type_binary)\n",
    "house_room['ratio'] = house_room['house']/house_room['room']\n",
    "house_room\n",
    "\n",
    "house_room = house_room.merge(SD_gdf, left_on='zipcode', right_on='zipcode')\n",
    "house_room_gdf = geopandas.GeoDataFrame(house_room['ratio'], geometry=house_room['geometry'])\n"
   ]
  },
  {
   "cell_type": "code",
   "execution_count": 106,
   "metadata": {},
   "outputs": [
    {
     "data": {
      "image/png": "[encoded data removed]",
      "text/plain": [
       "<Figure size 1152x576 with 2 Axes>"
      ]
     },
     "metadata": {
      "needs_background": "light"
     },
     "output_type": "display_data"
    }
   ],
   "source": [
    "# Plot our map\n",
    "house_room_gdf.plot(column=\"ratio\", cmap = 'BuGn', edgecolor = 'k', legend = True, figsize=(16,8))\n",
    "plt.title(\"Ratio of Houses to Rooms by Zip Code\")\n",
    "plt.axis('off');"
   ]
  },
  {
   "attachments": {},
   "cell_type": "markdown",
   "metadata": {},
   "source": [
    "## Export Results"
   ]
  },
  {
   "cell_type": "code",
   "execution_count": 41,
   "metadata": {},
   "outputs": [],
   "source": [
    "# eda_income_df.to_csv(\"../Data/lyrics.csv.gz\", compression = \"gzip\")"
   ]
  }
 ],
 "metadata": {
  "kernelspec": {
   "display_name": "Python 3",
   "language": "python",
   "name": "python3"
  },
  "language_info": {
   "codemirror_mode": {
    "name": "ipython",
    "version": 3
   },
   "file_extension": ".py",
   "mimetype": "text/x-python",
   "name": "python",
   "nbconvert_exporter": "python",
   "pygments_lexer": "ipython3",
   "version": "3.9.12"
  },
  "orig_nbformat": 4
 },
 "nbformat": 4,
 "nbformat_minor": 2
}
