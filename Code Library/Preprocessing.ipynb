{
 "cells": [
  {
   "cell_type": "markdown",
   "metadata": {},
   "source": [
    "# Notebook 3: Preprocessing\n",
    "\n",
    "_For USD-599 Capstone Project by Hunter Blum, Kyle Esteban Dalope, and Nicholas Lee (Summer 2023)_\n",
    "\n",
    "***\n",
    "\n",
    "**Content Overview:**\n",
    "1. Missing Value Handling"
   ]
  },
  {
   "cell_type": "code",
   "execution_count": 2,
   "metadata": {},
   "outputs": [],
   "source": [
    "# Library Imports\n",
    "import pandas as pd\n",
    "import numpy as np"
   ]
  },
  {
   "cell_type": "markdown",
   "metadata": {},
   "source": [
    "## Missing Value Handling"
   ]
  },
  {
   "cell_type": "code",
   "execution_count": 3,
   "metadata": {},
   "outputs": [
    {
     "data": {
      "text/html": [
       "<div>\n",
       "<style scoped>\n",
       "    .dataframe tbody tr th:only-of-type {\n",
       "        vertical-align: middle;\n",
       "    }\n",
       "\n",
       "    .dataframe tbody tr th {\n",
       "        vertical-align: top;\n",
       "    }\n",
       "\n",
       "    .dataframe thead th {\n",
       "        text-align: right;\n",
       "    }\n",
       "</style>\n",
       "<table border=\"1\" class=\"dataframe\">\n",
       "  <thead>\n",
       "    <tr style=\"text-align: right;\">\n",
       "      <th></th>\n",
       "      <th>host_listings_count</th>\n",
       "      <th>room_type</th>\n",
       "      <th>bathrooms</th>\n",
       "      <th>bedrooms</th>\n",
       "      <th>price</th>\n",
       "      <th>minimum_nights</th>\n",
       "      <th>maximum_nights</th>\n",
       "      <th>minimum_minimum_nights</th>\n",
       "      <th>maximum_maximum_nights</th>\n",
       "      <th>has_availability</th>\n",
       "      <th>...</th>\n",
       "      <th>instant_bookable</th>\n",
       "      <th>calculated_host_listings_count</th>\n",
       "      <th>calculated_host_listings_count_private_rooms</th>\n",
       "      <th>calculated_host_listings_count_shared_rooms</th>\n",
       "      <th>reviews_per_month</th>\n",
       "      <th>zipcode</th>\n",
       "      <th>median_income_dollars</th>\n",
       "      <th>property_type_binary</th>\n",
       "      <th>private</th>\n",
       "      <th>sentiment</th>\n",
       "    </tr>\n",
       "  </thead>\n",
       "  <tbody>\n",
       "    <tr>\n",
       "      <th>0</th>\n",
       "      <td>52.0</td>\n",
       "      <td>Entire home/apt</td>\n",
       "      <td>2.0</td>\n",
       "      <td>2.0</td>\n",
       "      <td>728.0</td>\n",
       "      <td>2</td>\n",
       "      <td>28</td>\n",
       "      <td>1.0</td>\n",
       "      <td>1125.0</td>\n",
       "      <td>t</td>\n",
       "      <td>...</td>\n",
       "      <td>t</td>\n",
       "      <td>30</td>\n",
       "      <td>0</td>\n",
       "      <td>0</td>\n",
       "      <td>3.77</td>\n",
       "      <td>92109</td>\n",
       "      <td>95170.0</td>\n",
       "      <td>house</td>\n",
       "      <td>1</td>\n",
       "      <td>0.900577</td>\n",
       "    </tr>\n",
       "  </tbody>\n",
       "</table>\n",
       "<p>1 rows × 26 columns</p>\n",
       "</div>"
      ],
      "text/plain": [
       "   host_listings_count        room_type  bathrooms  bedrooms  price   \n",
       "0                 52.0  Entire home/apt        2.0       2.0  728.0  \\\n",
       "\n",
       "   minimum_nights  maximum_nights  minimum_minimum_nights   \n",
       "0               2              28                     1.0  \\\n",
       "\n",
       "   maximum_maximum_nights has_availability  ...  instant_bookable   \n",
       "0                  1125.0                t  ...                 t  \\\n",
       "\n",
       "   calculated_host_listings_count   \n",
       "0                              30  \\\n",
       "\n",
       "   calculated_host_listings_count_private_rooms   \n",
       "0                                             0  \\\n",
       "\n",
       "   calculated_host_listings_count_shared_rooms  reviews_per_month  zipcode   \n",
       "0                                            0               3.77    92109  \\\n",
       "\n",
       "  median_income_dollars  property_type_binary  private  sentiment  \n",
       "0               95170.0                 house        1   0.900577  \n",
       "\n",
       "[1 rows x 26 columns]"
      ]
     },
     "execution_count": 3,
     "metadata": {},
     "output_type": "execute_result"
    }
   ],
   "source": [
    "# Read in the csv file from the previous notebook\n",
    "preproc_df = pd.read_csv(\"../Data/clean_df.csv.gz\",\n",
    "                         compression = \"gzip\")\n",
    "\n",
    "preproc_df.head(1)"
   ]
  },
  {
   "cell_type": "code",
   "execution_count": 5,
   "metadata": {},
   "outputs": [
    {
     "data": {
      "text/plain": [
       "host_listings_count                               51\n",
       "room_type                                          0\n",
       "bathrooms                                          6\n",
       "bedrooms                                        1538\n",
       "price                                              0\n",
       "minimum_nights                                     0\n",
       "maximum_nights                                     0\n",
       "minimum_minimum_nights                             2\n",
       "maximum_maximum_nights                             2\n",
       "has_availability                                   0\n",
       "availability_30                                    0\n",
       "availability_365                                   0\n",
       "number_of_reviews                                  0\n",
       "review_scores_rating                            3186\n",
       "review_scores_checkin                           3214\n",
       "review_scores_location                          3214\n",
       "instant_bookable                                   0\n",
       "calculated_host_listings_count                     0\n",
       "calculated_host_listings_count_private_rooms       0\n",
       "calculated_host_listings_count_shared_rooms        0\n",
       "reviews_per_month                               3186\n",
       "zipcode                                            0\n",
       "median_income_dollars                              0\n",
       "property_type_binary                               0\n",
       "private                                            0\n",
       "sentiment                                          0\n",
       "dtype: int64"
      ]
     },
     "execution_count": 5,
     "metadata": {},
     "output_type": "execute_result"
    }
   ],
   "source": [
    "preproc_df.isna().sum()"
   ]
  },
  {
   "cell_type": "code",
   "execution_count": 12,
   "metadata": {},
   "outputs": [
    {
     "data": {
      "text/plain": [
       "bedrooms                   247\n",
       "review_scores_rating      3186\n",
       "review_scores_checkin     3186\n",
       "review_scores_location    3186\n",
       "reviews_per_month         3186\n",
       "dtype: int64"
      ]
     },
     "execution_count": 12,
     "metadata": {},
     "output_type": "execute_result"
    }
   ],
   "source": [
    "# Check if the missing values are due to incomplete rows\n",
    "preproc_df.loc[\n",
    "    preproc_df[\"review_scores_rating\"].isnull(), \n",
    "    [\"bedrooms\", \"review_scores_rating\", \n",
    "     \"review_scores_checkin\", \"review_scores_location\",\n",
    "     \"reviews_per_month\"]\n",
    "].isna().sum()"
   ]
  },
  {
   "cell_type": "markdown",
   "metadata": {},
   "source": [
    "The above analysis shows that every record missing values in the feature _reviews_per_month_ is also missing values in _review_scores_rating_. Likewise, these records are also missing values in other review-related feature."
   ]
  },
  {
   "cell_type": "code",
   "execution_count": 15,
   "metadata": {},
   "outputs": [
    {
     "data": {
      "text/plain": [
       "host_listings_count                                3\n",
       "room_type                                          0\n",
       "bathrooms                                          3\n",
       "bedrooms                                        1291\n",
       "price                                              0\n",
       "minimum_nights                                     0\n",
       "maximum_nights                                     0\n",
       "minimum_minimum_nights                             1\n",
       "maximum_maximum_nights                             1\n",
       "has_availability                                   0\n",
       "availability_30                                    0\n",
       "availability_365                                   0\n",
       "number_of_reviews                                  0\n",
       "review_scores_rating                               0\n",
       "review_scores_checkin                             28\n",
       "review_scores_location                            28\n",
       "instant_bookable                                   0\n",
       "calculated_host_listings_count                     0\n",
       "calculated_host_listings_count_private_rooms       0\n",
       "calculated_host_listings_count_shared_rooms        0\n",
       "reviews_per_month                                  0\n",
       "zipcode                                            0\n",
       "median_income_dollars                              0\n",
       "property_type_binary                               0\n",
       "private                                            0\n",
       "sentiment                                          0\n",
       "dtype: int64"
      ]
     },
     "execution_count": 15,
     "metadata": {},
     "output_type": "execute_result"
    }
   ],
   "source": [
    "# If incomplete records were to be dropped, it would resolve many missing value issues\n",
    "preproc_df.dropna(subset = [\"reviews_per_month\"]).isnull().sum()"
   ]
  }
 ],
 "metadata": {
  "kernelspec": {
   "display_name": "Python 3",
   "language": "python",
   "name": "python3"
  },
  "language_info": {
   "codemirror_mode": {
    "name": "ipython",
    "version": 3
   },
   "file_extension": ".py",
   "mimetype": "text/x-python",
   "name": "python",
   "nbconvert_exporter": "python",
   "pygments_lexer": "ipython3",
   "version": "3.11.1"
  },
  "orig_nbformat": 4
 },
 "nbformat": 4,
 "nbformat_minor": 2
}
